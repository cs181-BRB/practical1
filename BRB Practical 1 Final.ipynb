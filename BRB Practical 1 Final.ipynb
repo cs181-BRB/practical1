{
 "cells": [
  {
   "cell_type": "markdown",
   "metadata": {},
   "source": [
    "## BRB Practical 1 Final\n",
    "\n",
    "### Organizing the Data\n",
    "Import the necessary libraries, read in the csvs, create the Xtraining, Ytraining, and Xtest sets"
   ]
  },
  {
   "cell_type": "code",
   "execution_count": 92,
   "metadata": {
    "collapsed": false,
    "deletable": true,
    "editable": true
   },
   "outputs": [],
   "source": [
    "import pandas as pd\n",
    "import numpy as np\n",
    "import matplotlib.pyplot as plt\n",
    "from sklearn.linear_model import LinearRegression, BayesianRidge, Lasso\n",
    "from sklearn.ensemble import RandomForestRegressor\n",
    "from sklearn.metrics import mean_squared_error\n",
    "from sklearn.model_selection import train_test_split, cross_val_score\n",
    "import warnings\n",
    "warnings.filterwarnings(\"ignore\")\n",
    "import math"
   ]
  },
  {
   "cell_type": "code",
   "execution_count": 3,
   "metadata": {
    "collapsed": false,
    "deletable": true,
    "editable": true
   },
   "outputs": [],
   "source": [
    "\"\"\"\n",
    "Read in train and test as Pandas DataFrames\n",
    "\"\"\"\n",
    "df_train_full = pd.read_csv(\"./train.csv\")\n",
    "df_test_full = pd.read_csv(\"./test.csv\")"
   ]
  },
  {
   "cell_type": "code",
   "execution_count": 14,
   "metadata": {
    "collapsed": false,
    "deletable": true,
    "editable": true
   },
   "outputs": [],
   "source": [
    "df_test = df_test_full\n",
    "df_train = df_train_full"
   ]
  },
  {
   "cell_type": "code",
   "execution_count": 15,
   "metadata": {
    "collapsed": true
   },
   "outputs": [],
   "source": [
    "### Swap this out in the real thing!!! \n",
    "df_train = df_train_full.sample(n=100000)"
   ]
  },
  {
   "cell_type": "code",
   "execution_count": 16,
   "metadata": {
    "collapsed": false,
    "deletable": true,
    "editable": true,
    "scrolled": true
   },
   "outputs": [
    {
     "data": {
      "text/html": [
       "<div>\n",
       "<table border=\"1\" class=\"dataframe\">\n",
       "  <thead>\n",
       "    <tr style=\"text-align: right;\">\n",
       "      <th></th>\n",
       "      <th>smiles</th>\n",
       "      <th>feat_001</th>\n",
       "      <th>feat_002</th>\n",
       "      <th>feat_003</th>\n",
       "      <th>feat_004</th>\n",
       "      <th>feat_005</th>\n",
       "      <th>feat_006</th>\n",
       "      <th>feat_007</th>\n",
       "      <th>feat_008</th>\n",
       "      <th>feat_009</th>\n",
       "      <th>...</th>\n",
       "      <th>feat_248</th>\n",
       "      <th>feat_249</th>\n",
       "      <th>feat_250</th>\n",
       "      <th>feat_251</th>\n",
       "      <th>feat_252</th>\n",
       "      <th>feat_253</th>\n",
       "      <th>feat_254</th>\n",
       "      <th>feat_255</th>\n",
       "      <th>feat_256</th>\n",
       "      <th>gap</th>\n",
       "    </tr>\n",
       "  </thead>\n",
       "  <tbody>\n",
       "    <tr>\n",
       "      <th>442682</th>\n",
       "      <td>[nH]1cccc1-c1cc2[nH]c3c4[SiH2]C=Cc4c4cocc4c3c2cn1</td>\n",
       "      <td>1.0</td>\n",
       "      <td>0.0</td>\n",
       "      <td>0.0</td>\n",
       "      <td>0.0</td>\n",
       "      <td>1.0</td>\n",
       "      <td>1.0</td>\n",
       "      <td>1.0</td>\n",
       "      <td>0.0</td>\n",
       "      <td>0.0</td>\n",
       "      <td>...</td>\n",
       "      <td>1.0</td>\n",
       "      <td>0.0</td>\n",
       "      <td>0.0</td>\n",
       "      <td>0.0</td>\n",
       "      <td>0.0</td>\n",
       "      <td>0.0</td>\n",
       "      <td>0.0</td>\n",
       "      <td>0.0</td>\n",
       "      <td>0.0</td>\n",
       "      <td>1.87</td>\n",
       "    </tr>\n",
       "    <tr>\n",
       "      <th>605414</th>\n",
       "      <td>C1=Cc2c([SiH2]1)c1[se]c3cc(-c4nccc5nsnc45)c4ns...</td>\n",
       "      <td>1.0</td>\n",
       "      <td>0.0</td>\n",
       "      <td>0.0</td>\n",
       "      <td>0.0</td>\n",
       "      <td>1.0</td>\n",
       "      <td>1.0</td>\n",
       "      <td>1.0</td>\n",
       "      <td>0.0</td>\n",
       "      <td>0.0</td>\n",
       "      <td>...</td>\n",
       "      <td>1.0</td>\n",
       "      <td>0.0</td>\n",
       "      <td>0.0</td>\n",
       "      <td>0.0</td>\n",
       "      <td>0.0</td>\n",
       "      <td>0.0</td>\n",
       "      <td>0.0</td>\n",
       "      <td>0.0</td>\n",
       "      <td>0.0</td>\n",
       "      <td>1.33</td>\n",
       "    </tr>\n",
       "    <tr>\n",
       "      <th>71410</th>\n",
       "      <td>c1ccc(cn1)-c1ncc(-c2ccc(-c3cncc4nsnc34)c3nsnc2...</td>\n",
       "      <td>0.0</td>\n",
       "      <td>0.0</td>\n",
       "      <td>0.0</td>\n",
       "      <td>0.0</td>\n",
       "      <td>1.0</td>\n",
       "      <td>0.0</td>\n",
       "      <td>1.0</td>\n",
       "      <td>0.0</td>\n",
       "      <td>0.0</td>\n",
       "      <td>...</td>\n",
       "      <td>1.0</td>\n",
       "      <td>0.0</td>\n",
       "      <td>0.0</td>\n",
       "      <td>0.0</td>\n",
       "      <td>0.0</td>\n",
       "      <td>0.0</td>\n",
       "      <td>0.0</td>\n",
       "      <td>0.0</td>\n",
       "      <td>0.0</td>\n",
       "      <td>1.90</td>\n",
       "    </tr>\n",
       "    <tr>\n",
       "      <th>588589</th>\n",
       "      <td>C1=Cc2cc3c(cc2[SiH2]1)c1sc(cc1c1=C[SiH2]C=c31)...</td>\n",
       "      <td>1.0</td>\n",
       "      <td>0.0</td>\n",
       "      <td>0.0</td>\n",
       "      <td>0.0</td>\n",
       "      <td>1.0</td>\n",
       "      <td>0.0</td>\n",
       "      <td>1.0</td>\n",
       "      <td>0.0</td>\n",
       "      <td>0.0</td>\n",
       "      <td>...</td>\n",
       "      <td>1.0</td>\n",
       "      <td>0.0</td>\n",
       "      <td>0.0</td>\n",
       "      <td>0.0</td>\n",
       "      <td>0.0</td>\n",
       "      <td>0.0</td>\n",
       "      <td>0.0</td>\n",
       "      <td>0.0</td>\n",
       "      <td>0.0</td>\n",
       "      <td>1.78</td>\n",
       "    </tr>\n",
       "    <tr>\n",
       "      <th>753820</th>\n",
       "      <td>c1[SiH2]c2c3-[s]c4ccc5cocc5c4-c3c3cCcc3c2-c1</td>\n",
       "      <td>1.0</td>\n",
       "      <td>0.0</td>\n",
       "      <td>0.0</td>\n",
       "      <td>0.0</td>\n",
       "      <td>1.0</td>\n",
       "      <td>0.0</td>\n",
       "      <td>1.0</td>\n",
       "      <td>0.0</td>\n",
       "      <td>0.0</td>\n",
       "      <td>...</td>\n",
       "      <td>1.0</td>\n",
       "      <td>0.0</td>\n",
       "      <td>0.0</td>\n",
       "      <td>0.0</td>\n",
       "      <td>0.0</td>\n",
       "      <td>0.0</td>\n",
       "      <td>0.0</td>\n",
       "      <td>0.0</td>\n",
       "      <td>0.0</td>\n",
       "      <td>1.68</td>\n",
       "    </tr>\n",
       "  </tbody>\n",
       "</table>\n",
       "<p>5 rows × 258 columns</p>\n",
       "</div>"
      ],
      "text/plain": [
       "                                                   smiles  feat_001  feat_002  \\\n",
       "442682  [nH]1cccc1-c1cc2[nH]c3c4[SiH2]C=Cc4c4cocc4c3c2cn1       1.0       0.0   \n",
       "605414  C1=Cc2c([SiH2]1)c1[se]c3cc(-c4nccc5nsnc45)c4ns...       1.0       0.0   \n",
       "71410   c1ccc(cn1)-c1ncc(-c2ccc(-c3cncc4nsnc34)c3nsnc2...       0.0       0.0   \n",
       "588589  C1=Cc2cc3c(cc2[SiH2]1)c1sc(cc1c1=C[SiH2]C=c31)...       1.0       0.0   \n",
       "753820       c1[SiH2]c2c3-[s]c4ccc5cocc5c4-c3c3cCcc3c2-c1       1.0       0.0   \n",
       "\n",
       "        feat_003  feat_004  feat_005  feat_006  feat_007  feat_008  feat_009  \\\n",
       "442682       0.0       0.0       1.0       1.0       1.0       0.0       0.0   \n",
       "605414       0.0       0.0       1.0       1.0       1.0       0.0       0.0   \n",
       "71410        0.0       0.0       1.0       0.0       1.0       0.0       0.0   \n",
       "588589       0.0       0.0       1.0       0.0       1.0       0.0       0.0   \n",
       "753820       0.0       0.0       1.0       0.0       1.0       0.0       0.0   \n",
       "\n",
       "        ...   feat_248  feat_249  feat_250  feat_251  feat_252  feat_253  \\\n",
       "442682  ...        1.0       0.0       0.0       0.0       0.0       0.0   \n",
       "605414  ...        1.0       0.0       0.0       0.0       0.0       0.0   \n",
       "71410   ...        1.0       0.0       0.0       0.0       0.0       0.0   \n",
       "588589  ...        1.0       0.0       0.0       0.0       0.0       0.0   \n",
       "753820  ...        1.0       0.0       0.0       0.0       0.0       0.0   \n",
       "\n",
       "        feat_254  feat_255  feat_256   gap  \n",
       "442682       0.0       0.0       0.0  1.87  \n",
       "605414       0.0       0.0       0.0  1.33  \n",
       "71410        0.0       0.0       0.0  1.90  \n",
       "588589       0.0       0.0       0.0  1.78  \n",
       "753820       0.0       0.0       0.0  1.68  \n",
       "\n",
       "[5 rows x 258 columns]"
      ]
     },
     "execution_count": 16,
     "metadata": {},
     "output_type": "execute_result"
    }
   ],
   "source": [
    "df_train.head()"
   ]
  },
  {
   "cell_type": "code",
   "execution_count": 17,
   "metadata": {
    "collapsed": false,
    "deletable": true,
    "editable": true,
    "scrolled": true
   },
   "outputs": [
    {
     "data": {
      "text/html": [
       "<div>\n",
       "<table border=\"1\" class=\"dataframe\">\n",
       "  <thead>\n",
       "    <tr style=\"text-align: right;\">\n",
       "      <th></th>\n",
       "      <th>Id</th>\n",
       "      <th>smiles</th>\n",
       "      <th>feat_001</th>\n",
       "      <th>feat_002</th>\n",
       "      <th>feat_003</th>\n",
       "      <th>feat_004</th>\n",
       "      <th>feat_005</th>\n",
       "      <th>feat_006</th>\n",
       "      <th>feat_007</th>\n",
       "      <th>feat_008</th>\n",
       "      <th>...</th>\n",
       "      <th>feat_247</th>\n",
       "      <th>feat_248</th>\n",
       "      <th>feat_249</th>\n",
       "      <th>feat_250</th>\n",
       "      <th>feat_251</th>\n",
       "      <th>feat_252</th>\n",
       "      <th>feat_253</th>\n",
       "      <th>feat_254</th>\n",
       "      <th>feat_255</th>\n",
       "      <th>feat_256</th>\n",
       "    </tr>\n",
       "  </thead>\n",
       "  <tbody>\n",
       "    <tr>\n",
       "      <th>0</th>\n",
       "      <td>1</td>\n",
       "      <td>c1sc(-c2cnc3c(c2)c2nsnc2c2cc4cccnc4cc32)c2cc[n...</td>\n",
       "      <td>0.0</td>\n",
       "      <td>0.0</td>\n",
       "      <td>0.0</td>\n",
       "      <td>0.0</td>\n",
       "      <td>1.0</td>\n",
       "      <td>1.0</td>\n",
       "      <td>1.0</td>\n",
       "      <td>0.0</td>\n",
       "      <td>...</td>\n",
       "      <td>0.0</td>\n",
       "      <td>1.0</td>\n",
       "      <td>0.0</td>\n",
       "      <td>0.0</td>\n",
       "      <td>0.0</td>\n",
       "      <td>0.0</td>\n",
       "      <td>0.0</td>\n",
       "      <td>0.0</td>\n",
       "      <td>0.0</td>\n",
       "      <td>0.0</td>\n",
       "    </tr>\n",
       "    <tr>\n",
       "      <th>1</th>\n",
       "      <td>2</td>\n",
       "      <td>[nH]1cccc1-c1cc2c3nsnc3c3c4sccc4[nH]c3c2s1</td>\n",
       "      <td>0.0</td>\n",
       "      <td>0.0</td>\n",
       "      <td>0.0</td>\n",
       "      <td>0.0</td>\n",
       "      <td>1.0</td>\n",
       "      <td>1.0</td>\n",
       "      <td>1.0</td>\n",
       "      <td>0.0</td>\n",
       "      <td>...</td>\n",
       "      <td>0.0</td>\n",
       "      <td>1.0</td>\n",
       "      <td>0.0</td>\n",
       "      <td>0.0</td>\n",
       "      <td>0.0</td>\n",
       "      <td>0.0</td>\n",
       "      <td>0.0</td>\n",
       "      <td>0.0</td>\n",
       "      <td>0.0</td>\n",
       "      <td>0.0</td>\n",
       "    </tr>\n",
       "    <tr>\n",
       "      <th>2</th>\n",
       "      <td>3</td>\n",
       "      <td>[nH]1c2cc(-c3ccc[se]3)c3nsnc3c2c2c3cscc3c3ccc4...</td>\n",
       "      <td>1.0</td>\n",
       "      <td>0.0</td>\n",
       "      <td>0.0</td>\n",
       "      <td>0.0</td>\n",
       "      <td>1.0</td>\n",
       "      <td>1.0</td>\n",
       "      <td>1.0</td>\n",
       "      <td>0.0</td>\n",
       "      <td>...</td>\n",
       "      <td>0.0</td>\n",
       "      <td>1.0</td>\n",
       "      <td>0.0</td>\n",
       "      <td>0.0</td>\n",
       "      <td>0.0</td>\n",
       "      <td>0.0</td>\n",
       "      <td>0.0</td>\n",
       "      <td>0.0</td>\n",
       "      <td>0.0</td>\n",
       "      <td>0.0</td>\n",
       "    </tr>\n",
       "    <tr>\n",
       "      <th>3</th>\n",
       "      <td>4</td>\n",
       "      <td>[nH]1c(cc2cnc3c(c12)c1=C[SiH2]C=c1c1ccc2=CCC=c...</td>\n",
       "      <td>1.0</td>\n",
       "      <td>0.0</td>\n",
       "      <td>0.0</td>\n",
       "      <td>0.0</td>\n",
       "      <td>1.0</td>\n",
       "      <td>1.0</td>\n",
       "      <td>1.0</td>\n",
       "      <td>0.0</td>\n",
       "      <td>...</td>\n",
       "      <td>0.0</td>\n",
       "      <td>1.0</td>\n",
       "      <td>0.0</td>\n",
       "      <td>0.0</td>\n",
       "      <td>0.0</td>\n",
       "      <td>0.0</td>\n",
       "      <td>0.0</td>\n",
       "      <td>0.0</td>\n",
       "      <td>0.0</td>\n",
       "      <td>0.0</td>\n",
       "    </tr>\n",
       "    <tr>\n",
       "      <th>4</th>\n",
       "      <td>5</td>\n",
       "      <td>c1sc(-c2sc(-c3sc(-c4scc5[se]ccc45)c4ccoc34)c3c...</td>\n",
       "      <td>0.0</td>\n",
       "      <td>0.0</td>\n",
       "      <td>0.0</td>\n",
       "      <td>0.0</td>\n",
       "      <td>1.0</td>\n",
       "      <td>0.0</td>\n",
       "      <td>1.0</td>\n",
       "      <td>0.0</td>\n",
       "      <td>...</td>\n",
       "      <td>0.0</td>\n",
       "      <td>1.0</td>\n",
       "      <td>0.0</td>\n",
       "      <td>0.0</td>\n",
       "      <td>0.0</td>\n",
       "      <td>0.0</td>\n",
       "      <td>0.0</td>\n",
       "      <td>0.0</td>\n",
       "      <td>0.0</td>\n",
       "      <td>0.0</td>\n",
       "    </tr>\n",
       "  </tbody>\n",
       "</table>\n",
       "<p>5 rows × 258 columns</p>\n",
       "</div>"
      ],
      "text/plain": [
       "   Id                                             smiles  feat_001  feat_002  \\\n",
       "0   1  c1sc(-c2cnc3c(c2)c2nsnc2c2cc4cccnc4cc32)c2cc[n...       0.0       0.0   \n",
       "1   2         [nH]1cccc1-c1cc2c3nsnc3c3c4sccc4[nH]c3c2s1       0.0       0.0   \n",
       "2   3  [nH]1c2cc(-c3ccc[se]3)c3nsnc3c2c2c3cscc3c3ccc4...       1.0       0.0   \n",
       "3   4  [nH]1c(cc2cnc3c(c12)c1=C[SiH2]C=c1c1ccc2=CCC=c...       1.0       0.0   \n",
       "4   5  c1sc(-c2sc(-c3sc(-c4scc5[se]ccc45)c4ccoc34)c3c...       0.0       0.0   \n",
       "\n",
       "   feat_003  feat_004  feat_005  feat_006  feat_007  feat_008    ...     \\\n",
       "0       0.0       0.0       1.0       1.0       1.0       0.0    ...      \n",
       "1       0.0       0.0       1.0       1.0       1.0       0.0    ...      \n",
       "2       0.0       0.0       1.0       1.0       1.0       0.0    ...      \n",
       "3       0.0       0.0       1.0       1.0       1.0       0.0    ...      \n",
       "4       0.0       0.0       1.0       0.0       1.0       0.0    ...      \n",
       "\n",
       "   feat_247  feat_248  feat_249  feat_250  feat_251  feat_252  feat_253  \\\n",
       "0       0.0       1.0       0.0       0.0       0.0       0.0       0.0   \n",
       "1       0.0       1.0       0.0       0.0       0.0       0.0       0.0   \n",
       "2       0.0       1.0       0.0       0.0       0.0       0.0       0.0   \n",
       "3       0.0       1.0       0.0       0.0       0.0       0.0       0.0   \n",
       "4       0.0       1.0       0.0       0.0       0.0       0.0       0.0   \n",
       "\n",
       "   feat_254  feat_255  feat_256  \n",
       "0       0.0       0.0       0.0  \n",
       "1       0.0       0.0       0.0  \n",
       "2       0.0       0.0       0.0  \n",
       "3       0.0       0.0       0.0  \n",
       "4       0.0       0.0       0.0  \n",
       "\n",
       "[5 rows x 258 columns]"
      ]
     },
     "execution_count": 17,
     "metadata": {},
     "output_type": "execute_result"
    }
   ],
   "source": [
    "df_test.head()"
   ]
  },
  {
   "cell_type": "code",
   "execution_count": 18,
   "metadata": {
    "collapsed": false,
    "deletable": true,
    "editable": true
   },
   "outputs": [],
   "source": [
    "#store gap values\n",
    "Y_train = df_train.gap.values\n",
    "#row where testing examples start\n",
    "test_idx = df_train.shape[0]\n",
    "#delete 'gap' column\n",
    "df_train = df_train.drop(['gap'], axis=1)"
   ]
  },
  {
   "cell_type": "code",
   "execution_count": 19,
   "metadata": {
    "collapsed": true,
    "deletable": true,
    "editable": true
   },
   "outputs": [],
   "source": [
    "test_ids = df_test.index\n",
    "df_test = df_test.drop(['Id'], axis=1)"
   ]
  },
  {
   "cell_type": "markdown",
   "metadata": {},
   "source": [
    "### Feature engineering"
   ]
  },
  {
   "cell_type": "code",
   "execution_count": 20,
   "metadata": {
    "collapsed": false,
    "deletable": true,
    "editable": true
   },
   "outputs": [
    {
     "data": {
      "text/html": [
       "<div>\n",
       "<table border=\"1\" class=\"dataframe\">\n",
       "  <thead>\n",
       "    <tr style=\"text-align: right;\">\n",
       "      <th></th>\n",
       "      <th>smiles</th>\n",
       "      <th>feat_001</th>\n",
       "      <th>feat_002</th>\n",
       "      <th>feat_003</th>\n",
       "      <th>feat_004</th>\n",
       "      <th>feat_005</th>\n",
       "      <th>feat_006</th>\n",
       "      <th>feat_007</th>\n",
       "      <th>feat_008</th>\n",
       "      <th>feat_009</th>\n",
       "      <th>...</th>\n",
       "      <th>feat_247</th>\n",
       "      <th>feat_248</th>\n",
       "      <th>feat_249</th>\n",
       "      <th>feat_250</th>\n",
       "      <th>feat_251</th>\n",
       "      <th>feat_252</th>\n",
       "      <th>feat_253</th>\n",
       "      <th>feat_254</th>\n",
       "      <th>feat_255</th>\n",
       "      <th>feat_256</th>\n",
       "    </tr>\n",
       "  </thead>\n",
       "  <tbody>\n",
       "    <tr>\n",
       "      <th>442682</th>\n",
       "      <td>[nH]1cccc1-c1cc2[nH]c3c4[SiH2]C=Cc4c4cocc4c3c2cn1</td>\n",
       "      <td>1.0</td>\n",
       "      <td>0.0</td>\n",
       "      <td>0.0</td>\n",
       "      <td>0.0</td>\n",
       "      <td>1.0</td>\n",
       "      <td>1.0</td>\n",
       "      <td>1.0</td>\n",
       "      <td>0.0</td>\n",
       "      <td>0.0</td>\n",
       "      <td>...</td>\n",
       "      <td>0.0</td>\n",
       "      <td>1.0</td>\n",
       "      <td>0.0</td>\n",
       "      <td>0.0</td>\n",
       "      <td>0.0</td>\n",
       "      <td>0.0</td>\n",
       "      <td>0.0</td>\n",
       "      <td>0.0</td>\n",
       "      <td>0.0</td>\n",
       "      <td>0.0</td>\n",
       "    </tr>\n",
       "    <tr>\n",
       "      <th>605414</th>\n",
       "      <td>C1=Cc2c([SiH2]1)c1[se]c3cc(-c4nccc5nsnc45)c4ns...</td>\n",
       "      <td>1.0</td>\n",
       "      <td>0.0</td>\n",
       "      <td>0.0</td>\n",
       "      <td>0.0</td>\n",
       "      <td>1.0</td>\n",
       "      <td>1.0</td>\n",
       "      <td>1.0</td>\n",
       "      <td>0.0</td>\n",
       "      <td>0.0</td>\n",
       "      <td>...</td>\n",
       "      <td>0.0</td>\n",
       "      <td>1.0</td>\n",
       "      <td>0.0</td>\n",
       "      <td>0.0</td>\n",
       "      <td>0.0</td>\n",
       "      <td>0.0</td>\n",
       "      <td>0.0</td>\n",
       "      <td>0.0</td>\n",
       "      <td>0.0</td>\n",
       "      <td>0.0</td>\n",
       "    </tr>\n",
       "    <tr>\n",
       "      <th>71410</th>\n",
       "      <td>c1ccc(cn1)-c1ncc(-c2ccc(-c3cncc4nsnc34)c3nsnc2...</td>\n",
       "      <td>0.0</td>\n",
       "      <td>0.0</td>\n",
       "      <td>0.0</td>\n",
       "      <td>0.0</td>\n",
       "      <td>1.0</td>\n",
       "      <td>0.0</td>\n",
       "      <td>1.0</td>\n",
       "      <td>0.0</td>\n",
       "      <td>0.0</td>\n",
       "      <td>...</td>\n",
       "      <td>0.0</td>\n",
       "      <td>1.0</td>\n",
       "      <td>0.0</td>\n",
       "      <td>0.0</td>\n",
       "      <td>0.0</td>\n",
       "      <td>0.0</td>\n",
       "      <td>0.0</td>\n",
       "      <td>0.0</td>\n",
       "      <td>0.0</td>\n",
       "      <td>0.0</td>\n",
       "    </tr>\n",
       "    <tr>\n",
       "      <th>588589</th>\n",
       "      <td>C1=Cc2cc3c(cc2[SiH2]1)c1sc(cc1c1=C[SiH2]C=c31)...</td>\n",
       "      <td>1.0</td>\n",
       "      <td>0.0</td>\n",
       "      <td>0.0</td>\n",
       "      <td>0.0</td>\n",
       "      <td>1.0</td>\n",
       "      <td>0.0</td>\n",
       "      <td>1.0</td>\n",
       "      <td>0.0</td>\n",
       "      <td>0.0</td>\n",
       "      <td>...</td>\n",
       "      <td>0.0</td>\n",
       "      <td>1.0</td>\n",
       "      <td>0.0</td>\n",
       "      <td>0.0</td>\n",
       "      <td>0.0</td>\n",
       "      <td>0.0</td>\n",
       "      <td>0.0</td>\n",
       "      <td>0.0</td>\n",
       "      <td>0.0</td>\n",
       "      <td>0.0</td>\n",
       "    </tr>\n",
       "    <tr>\n",
       "      <th>753820</th>\n",
       "      <td>c1[SiH2]c2c3-[s]c4ccc5cocc5c4-c3c3cCcc3c2-c1</td>\n",
       "      <td>1.0</td>\n",
       "      <td>0.0</td>\n",
       "      <td>0.0</td>\n",
       "      <td>0.0</td>\n",
       "      <td>1.0</td>\n",
       "      <td>0.0</td>\n",
       "      <td>1.0</td>\n",
       "      <td>0.0</td>\n",
       "      <td>0.0</td>\n",
       "      <td>...</td>\n",
       "      <td>0.0</td>\n",
       "      <td>1.0</td>\n",
       "      <td>0.0</td>\n",
       "      <td>0.0</td>\n",
       "      <td>0.0</td>\n",
       "      <td>0.0</td>\n",
       "      <td>0.0</td>\n",
       "      <td>0.0</td>\n",
       "      <td>0.0</td>\n",
       "      <td>0.0</td>\n",
       "    </tr>\n",
       "  </tbody>\n",
       "</table>\n",
       "<p>5 rows × 257 columns</p>\n",
       "</div>"
      ],
      "text/plain": [
       "                                                   smiles  feat_001  feat_002  \\\n",
       "442682  [nH]1cccc1-c1cc2[nH]c3c4[SiH2]C=Cc4c4cocc4c3c2cn1       1.0       0.0   \n",
       "605414  C1=Cc2c([SiH2]1)c1[se]c3cc(-c4nccc5nsnc45)c4ns...       1.0       0.0   \n",
       "71410   c1ccc(cn1)-c1ncc(-c2ccc(-c3cncc4nsnc34)c3nsnc2...       0.0       0.0   \n",
       "588589  C1=Cc2cc3c(cc2[SiH2]1)c1sc(cc1c1=C[SiH2]C=c31)...       1.0       0.0   \n",
       "753820       c1[SiH2]c2c3-[s]c4ccc5cocc5c4-c3c3cCcc3c2-c1       1.0       0.0   \n",
       "\n",
       "        feat_003  feat_004  feat_005  feat_006  feat_007  feat_008  feat_009  \\\n",
       "442682       0.0       0.0       1.0       1.0       1.0       0.0       0.0   \n",
       "605414       0.0       0.0       1.0       1.0       1.0       0.0       0.0   \n",
       "71410        0.0       0.0       1.0       0.0       1.0       0.0       0.0   \n",
       "588589       0.0       0.0       1.0       0.0       1.0       0.0       0.0   \n",
       "753820       0.0       0.0       1.0       0.0       1.0       0.0       0.0   \n",
       "\n",
       "          ...     feat_247  feat_248  feat_249  feat_250  feat_251  feat_252  \\\n",
       "442682    ...          0.0       1.0       0.0       0.0       0.0       0.0   \n",
       "605414    ...          0.0       1.0       0.0       0.0       0.0       0.0   \n",
       "71410     ...          0.0       1.0       0.0       0.0       0.0       0.0   \n",
       "588589    ...          0.0       1.0       0.0       0.0       0.0       0.0   \n",
       "753820    ...          0.0       1.0       0.0       0.0       0.0       0.0   \n",
       "\n",
       "        feat_253  feat_254  feat_255  feat_256  \n",
       "442682       0.0       0.0       0.0       0.0  \n",
       "605414       0.0       0.0       0.0       0.0  \n",
       "71410        0.0       0.0       0.0       0.0  \n",
       "588589       0.0       0.0       0.0       0.0  \n",
       "753820       0.0       0.0       0.0       0.0  \n",
       "\n",
       "[5 rows x 257 columns]"
      ]
     },
     "execution_count": 20,
     "metadata": {},
     "output_type": "execute_result"
    }
   ],
   "source": [
    "#DataFrame with all train and test examples so we can more easily apply feature engineering on\n",
    "df_all = pd.concat((df_train, df_test), axis=0)\n",
    "df_all.head()"
   ]
  },
  {
   "cell_type": "code",
   "execution_count": 9,
   "metadata": {
    "collapsed": false,
    "deletable": true,
    "editable": true
   },
   "outputs": [],
   "source": [
    "\"\"\"\n",
    "Example Feature Engineering\n",
    "\n",
    "this calculates the length of each smile string and adds a feature column with those lengths\n",
    "Note: this is NOT a good feature and will result in a lower score!\n",
    "\"\"\"\n",
    "#smiles_len = np.vstack(df_all.smiles.astype(str).apply(lambda x: len(x)))\n",
    "#df_all['smiles_len'] = pd.DataFrame(smiles_len)\n",
    "#Drop the 'smiles' column\n",
    "# df_all = df_all.drop(['smiles'], axis=1)"
   ]
  },
  {
   "cell_type": "code",
   "execution_count": 21,
   "metadata": {
    "collapsed": false,
    "deletable": true,
    "editable": true
   },
   "outputs": [
    {
     "name": "stdout",
     "output_type": "stream",
     "text": [
      "Train features: (100000, 256)\n",
      "Train gap: (100000,)\n",
      "Test features: (824230, 256)\n"
     ]
    }
   ],
   "source": [
    "#Drop the 'smiles' column\n",
    "df_all = df_all.drop(['smiles'], axis=1)\n",
    "vals = df_all.values\n",
    "X_train = vals[:test_idx]\n",
    "X_test = vals[test_idx:]\n",
    "print \"Train features:\", X_train.shape\n",
    "print \"Train gap:\", Y_train.shape\n",
    "print \"Test features:\", X_test.shape"
   ]
  },
  {
   "cell_type": "markdown",
   "metadata": {},
   "source": [
    "### Creating simple predictors, evaluate\n",
    "\n",
    "Here we use our training set to train Linear Regression Models, Random Forest, Random Forest with 100 trees, Bayesian Ridge Regression, and Lasso models. \n",
    "\n",
    "Once we select the best model, we'll train on the entire data set and predict for the test values.\n",
    "Below, we evaluate our simple predictors with root mean squared error and 5-fold cross validation (printed under each model). At a high level, we can see that random forest with 100 trees does the best."
   ]
  },
  {
   "cell_type": "code",
   "execution_count": 22,
   "metadata": {
    "collapsed": false,
    "deletable": true,
    "editable": true,
    "scrolled": true
   },
   "outputs": [
    {
     "name": "stdout",
     "output_type": "stream",
     "text": [
      "Simple Linear Regression Model\n",
      "[ -8.93540075e-02  -8.85427904e-02  -4.61132662e+20  -8.91306503e-02\n",
      "  -8.94801136e-02]\n"
     ]
    }
   ],
   "source": [
    "LR = LinearRegression()\n",
    "print \"Simple Linear Regression Model\"\n",
    "print cross_val_score(LR, X_train, Y_train, cv=5, scoring=\"mean_squared_error\")"
   ]
  },
  {
   "cell_type": "code",
   "execution_count": 23,
   "metadata": {
    "collapsed": false,
    "deletable": true,
    "editable": true
   },
   "outputs": [
    {
     "name": "stdout",
     "output_type": "stream",
     "text": [
      "Random Forest Regressor\n",
      "[-0.0757211  -0.07507246 -0.07644199 -0.07635965 -0.0761524 ]\n"
     ]
    }
   ],
   "source": [
    "RF = RandomForestRegressor()\n",
    "print \"Random Forest Regressor\"\n",
    "print cross_val_score(RF, X_train, Y_train, cv=5, scoring=\"mean_squared_error\")"
   ]
  },
  {
   "cell_type": "markdown",
   "metadata": {},
   "source": [
    "Eventually, we will optimize the hyper parameters we pass into these functions"
   ]
  },
  {
   "cell_type": "code",
   "execution_count": 24,
   "metadata": {
    "collapsed": false,
    "deletable": true,
    "editable": true
   },
   "outputs": [
    {
     "name": "stdout",
     "output_type": "stream",
     "text": [
      "Random Forest Regressor with 100 Trees\n",
      "[-0.0756296  -0.074949   -0.07638335 -0.07623079 -0.07604093]\n"
     ]
    }
   ],
   "source": [
    "RF_100 = RandomForestRegressor(n_estimators=100)\n",
    "print \"Random Forest Regressor with 100 Trees\"\n",
    "print cross_val_score(RF_100, X_train, Y_train, cv=5, scoring=\"mean_squared_error\")"
   ]
  },
  {
   "cell_type": "code",
   "execution_count": 25,
   "metadata": {
    "collapsed": false,
    "deletable": true,
    "editable": true
   },
   "outputs": [
    {
     "name": "stdout",
     "output_type": "stream",
     "text": [
      "[-0.08934134 -0.08855736 -0.09030493 -0.08911527 -0.08947525]\n"
     ]
    }
   ],
   "source": [
    "# Bayesian Ridge Regression\n",
    "BRR = BayesianRidge(compute_score=True)\n",
    "print cross_val_score(BRR, X_train, Y_train, cv=5, scoring=\"mean_squared_error\")"
   ]
  },
  {
   "cell_type": "code",
   "execution_count": 26,
   "metadata": {
    "collapsed": false,
    "deletable": true,
    "editable": true
   },
   "outputs": [
    {
     "name": "stdout",
     "output_type": "stream",
     "text": [
      "[-0.16538462 -0.16626154 -0.16476814 -0.16641375 -0.16572559]\n"
     ]
    }
   ],
   "source": [
    "# Lasso Regression\n",
    "L = Lasso(alpha=0.1)\n",
    "print cross_val_score(L, X_train, Y_train, cv=5, scoring=\"mean_squared_error\")"
   ]
  },
  {
   "cell_type": "markdown",
   "metadata": {},
   "source": [
    "### Optimizing the Hyper parameters\n",
    "#### Grid Search"
   ]
  },
  {
   "cell_type": "code",
   "execution_count": null,
   "metadata": {
    "collapsed": true
   },
   "outputs": [],
   "source": []
  },
  {
   "cell_type": "markdown",
   "metadata": {},
   "source": [
    "### Ensemble Methods\n",
    "\n",
    "Inspired by the ensemble methods like random forest which take an average of the predictions by each tree, we wanted to combine the predictions of a divers model. \n",
    "\n",
    "Here we add a new feature for our linear model predictions, random forest model predictions, lasso model predictions, etc. This becomes our new training set.\n",
    "\n",
    "#### Creating our training set"
   ]
  },
  {
   "cell_type": "code",
   "execution_count": 28,
   "metadata": {
    "collapsed": false
   },
   "outputs": [
    {
     "data": {
      "text/plain": [
       "Lasso(alpha=0.1, copy_X=True, fit_intercept=True, max_iter=1000,\n",
       "   normalize=False, positive=False, precompute=False, random_state=None,\n",
       "   selection='cyclic', tol=0.0001, warm_start=False)"
      ]
     },
     "execution_count": 28,
     "metadata": {},
     "output_type": "execute_result"
    }
   ],
   "source": [
    "# fit all the models on the training set so we can start to make predictions\n",
    "LR.fit(X_train, Y_train)\n",
    "RF.fit(X_train, Y_train)\n",
    "RF_100.fit(X_train, Y_train)\n",
    "BRR.fit(X_train, Y_train)\n",
    "L.fit(X_train, Y_train)"
   ]
  },
  {
   "cell_type": "code",
   "execution_count": 36,
   "metadata": {
    "collapsed": false
   },
   "outputs": [],
   "source": [
    "# make the predictions on our training set so we can add them as features\n",
    "LR_pred_train = LR.predict(X_train)\n",
    "RF_pred_train = RF.predict(X_train)\n",
    "RF_pred_100_train = RF_100.predict(X_train)\n",
    "BRR_pred_train = BRR.predict(X_train)\n",
    "L_pred_train = L.predict(X_train)\n",
    "\n",
    "# create a new data frame for what we call the \"ensemble\" method\n",
    "df_train_ensemble = df_train.drop(['smiles'], axis=1)"
   ]
  },
  {
   "cell_type": "code",
   "execution_count": 40,
   "metadata": {
    "collapsed": false
   },
   "outputs": [],
   "source": [
    "# add the feature vectors for the predictions\n",
    "df_train_ensemble['LR_pred'] = LR_pred_train\n",
    "df_train_ensemble['RF_pred'] = RF_pred_train\n",
    "df_train_ensemble['RF_pred_100'] = RF_pred_100_train\n",
    "df_train_ensemble['BRR_pred'] = BRR_pred_train\n",
    "df_train_ensemble['L_pred'] = L_pred_train"
   ]
  },
  {
   "cell_type": "code",
   "execution_count": 41,
   "metadata": {
    "collapsed": false
   },
   "outputs": [
    {
     "data": {
      "text/html": [
       "<div>\n",
       "<table border=\"1\" class=\"dataframe\">\n",
       "  <thead>\n",
       "    <tr style=\"text-align: right;\">\n",
       "      <th></th>\n",
       "      <th>feat_001</th>\n",
       "      <th>feat_002</th>\n",
       "      <th>feat_003</th>\n",
       "      <th>feat_004</th>\n",
       "      <th>feat_005</th>\n",
       "      <th>feat_006</th>\n",
       "      <th>feat_007</th>\n",
       "      <th>feat_008</th>\n",
       "      <th>feat_009</th>\n",
       "      <th>feat_010</th>\n",
       "      <th>...</th>\n",
       "      <th>feat_252</th>\n",
       "      <th>feat_253</th>\n",
       "      <th>feat_254</th>\n",
       "      <th>feat_255</th>\n",
       "      <th>feat_256</th>\n",
       "      <th>LR_pred</th>\n",
       "      <th>RF_pred</th>\n",
       "      <th>RF_pred_100</th>\n",
       "      <th>BRR_pred</th>\n",
       "      <th>L_pred</th>\n",
       "    </tr>\n",
       "  </thead>\n",
       "  <tbody>\n",
       "    <tr>\n",
       "      <th>442682</th>\n",
       "      <td>1.0</td>\n",
       "      <td>0.0</td>\n",
       "      <td>0.0</td>\n",
       "      <td>0.0</td>\n",
       "      <td>1.0</td>\n",
       "      <td>1.0</td>\n",
       "      <td>1.0</td>\n",
       "      <td>0.0</td>\n",
       "      <td>0.0</td>\n",
       "      <td>0.0</td>\n",
       "      <td>...</td>\n",
       "      <td>0.0</td>\n",
       "      <td>0.0</td>\n",
       "      <td>0.0</td>\n",
       "      <td>0.0</td>\n",
       "      <td>0.0</td>\n",
       "      <td>1.997156</td>\n",
       "      <td>2.064967</td>\n",
       "      <td>2.062232</td>\n",
       "      <td>1.997794</td>\n",
       "      <td>1.913956</td>\n",
       "    </tr>\n",
       "    <tr>\n",
       "      <th>605414</th>\n",
       "      <td>1.0</td>\n",
       "      <td>0.0</td>\n",
       "      <td>0.0</td>\n",
       "      <td>0.0</td>\n",
       "      <td>1.0</td>\n",
       "      <td>1.0</td>\n",
       "      <td>1.0</td>\n",
       "      <td>0.0</td>\n",
       "      <td>0.0</td>\n",
       "      <td>0.0</td>\n",
       "      <td>...</td>\n",
       "      <td>0.0</td>\n",
       "      <td>0.0</td>\n",
       "      <td>0.0</td>\n",
       "      <td>0.0</td>\n",
       "      <td>0.0</td>\n",
       "      <td>1.641202</td>\n",
       "      <td>1.621703</td>\n",
       "      <td>1.627049</td>\n",
       "      <td>1.641357</td>\n",
       "      <td>1.913956</td>\n",
       "    </tr>\n",
       "    <tr>\n",
       "      <th>71410</th>\n",
       "      <td>0.0</td>\n",
       "      <td>0.0</td>\n",
       "      <td>0.0</td>\n",
       "      <td>0.0</td>\n",
       "      <td>1.0</td>\n",
       "      <td>0.0</td>\n",
       "      <td>1.0</td>\n",
       "      <td>0.0</td>\n",
       "      <td>0.0</td>\n",
       "      <td>0.0</td>\n",
       "      <td>...</td>\n",
       "      <td>0.0</td>\n",
       "      <td>0.0</td>\n",
       "      <td>0.0</td>\n",
       "      <td>0.0</td>\n",
       "      <td>0.0</td>\n",
       "      <td>1.740283</td>\n",
       "      <td>1.706781</td>\n",
       "      <td>1.708116</td>\n",
       "      <td>1.740084</td>\n",
       "      <td>1.913956</td>\n",
       "    </tr>\n",
       "    <tr>\n",
       "      <th>588589</th>\n",
       "      <td>1.0</td>\n",
       "      <td>0.0</td>\n",
       "      <td>0.0</td>\n",
       "      <td>0.0</td>\n",
       "      <td>1.0</td>\n",
       "      <td>0.0</td>\n",
       "      <td>1.0</td>\n",
       "      <td>0.0</td>\n",
       "      <td>0.0</td>\n",
       "      <td>0.0</td>\n",
       "      <td>...</td>\n",
       "      <td>0.0</td>\n",
       "      <td>0.0</td>\n",
       "      <td>0.0</td>\n",
       "      <td>0.0</td>\n",
       "      <td>0.0</td>\n",
       "      <td>1.744102</td>\n",
       "      <td>1.786424</td>\n",
       "      <td>1.788058</td>\n",
       "      <td>1.743993</td>\n",
       "      <td>1.913956</td>\n",
       "    </tr>\n",
       "    <tr>\n",
       "      <th>753820</th>\n",
       "      <td>1.0</td>\n",
       "      <td>0.0</td>\n",
       "      <td>0.0</td>\n",
       "      <td>0.0</td>\n",
       "      <td>1.0</td>\n",
       "      <td>0.0</td>\n",
       "      <td>1.0</td>\n",
       "      <td>0.0</td>\n",
       "      <td>0.0</td>\n",
       "      <td>0.0</td>\n",
       "      <td>...</td>\n",
       "      <td>0.0</td>\n",
       "      <td>0.0</td>\n",
       "      <td>0.0</td>\n",
       "      <td>0.0</td>\n",
       "      <td>0.0</td>\n",
       "      <td>1.966072</td>\n",
       "      <td>1.895954</td>\n",
       "      <td>1.890638</td>\n",
       "      <td>1.965579</td>\n",
       "      <td>1.913956</td>\n",
       "    </tr>\n",
       "  </tbody>\n",
       "</table>\n",
       "<p>5 rows × 261 columns</p>\n",
       "</div>"
      ],
      "text/plain": [
       "        feat_001  feat_002  feat_003  feat_004  feat_005  feat_006  feat_007  \\\n",
       "442682       1.0       0.0       0.0       0.0       1.0       1.0       1.0   \n",
       "605414       1.0       0.0       0.0       0.0       1.0       1.0       1.0   \n",
       "71410        0.0       0.0       0.0       0.0       1.0       0.0       1.0   \n",
       "588589       1.0       0.0       0.0       0.0       1.0       0.0       1.0   \n",
       "753820       1.0       0.0       0.0       0.0       1.0       0.0       1.0   \n",
       "\n",
       "        feat_008  feat_009  feat_010    ...     feat_252  feat_253  feat_254  \\\n",
       "442682       0.0       0.0       0.0    ...          0.0       0.0       0.0   \n",
       "605414       0.0       0.0       0.0    ...          0.0       0.0       0.0   \n",
       "71410        0.0       0.0       0.0    ...          0.0       0.0       0.0   \n",
       "588589       0.0       0.0       0.0    ...          0.0       0.0       0.0   \n",
       "753820       0.0       0.0       0.0    ...          0.0       0.0       0.0   \n",
       "\n",
       "        feat_255  feat_256   LR_pred   RF_pred  RF_pred_100  BRR_pred  \\\n",
       "442682       0.0       0.0  1.997156  2.064967     2.062232  1.997794   \n",
       "605414       0.0       0.0  1.641202  1.621703     1.627049  1.641357   \n",
       "71410        0.0       0.0  1.740283  1.706781     1.708116  1.740084   \n",
       "588589       0.0       0.0  1.744102  1.786424     1.788058  1.743993   \n",
       "753820       0.0       0.0  1.966072  1.895954     1.890638  1.965579   \n",
       "\n",
       "          L_pred  \n",
       "442682  1.913956  \n",
       "605414  1.913956  \n",
       "71410   1.913956  \n",
       "588589  1.913956  \n",
       "753820  1.913956  \n",
       "\n",
       "[5 rows x 261 columns]"
      ]
     },
     "execution_count": 41,
     "metadata": {},
     "output_type": "execute_result"
    }
   ],
   "source": [
    "df_train_ensemble.head(5)"
   ]
  },
  {
   "cell_type": "code",
   "execution_count": 42,
   "metadata": {
    "collapsed": false,
    "deletable": true,
    "editable": true
   },
   "outputs": [
    {
     "name": "stdout",
     "output_type": "stream",
     "text": [
      "Train features: (100000, 261)\n",
      "Train gap: (100000,)\n",
      "Y train is the same as before since the actual values never changed\n"
     ]
    }
   ],
   "source": [
    "X_train_ensemble = df_train_ensemble.values\n",
    "print \"Train features:\", X_train_ensemble.shape\n",
    "print \"Train gap:\", Y_train.shape\n",
    "print \"Y train is the same as before since the actual values never changed\""
   ]
  },
  {
   "cell_type": "markdown",
   "metadata": {},
   "source": [
    "### Evaluating our new model\n",
    "We can now perform linear regression (and other models) on our new training set that includes the predictions and see how it performs"
   ]
  },
  {
   "cell_type": "code",
   "execution_count": 44,
   "metadata": {
    "collapsed": false
   },
   "outputs": [
    {
     "name": "stdout",
     "output_type": "stream",
     "text": [
      "Linear Regression Model including Predictions as Features\n",
      "[ -7.26958606e-02  -7.21181915e-02  -1.84624015e+20  -7.30851521e-02\n",
      "  -7.31680295e-02]\n"
     ]
    }
   ],
   "source": [
    "LR_ensemble = LinearRegression()\n",
    "print \"Linear Regression Model including Predictions as Features\"\n",
    "print cross_val_score(LR_ensemble, X_train_ensemble, Y_train, cv=5, scoring=\"mean_squared_error\")"
   ]
  },
  {
   "cell_type": "code",
   "execution_count": 45,
   "metadata": {
    "collapsed": false,
    "deletable": true,
    "editable": true
   },
   "outputs": [
    {
     "name": "stdout",
     "output_type": "stream",
     "text": [
      "Random Forest Model including Predictions as Features\n",
      "[-0.07510553 -0.07423559 -0.07595545 -0.0756203  -0.07552642]\n"
     ]
    }
   ],
   "source": [
    "RF_ensemble = RandomForestRegressor()\n",
    "print \"Random Forest Model including Predictions as Features\"\n",
    "print cross_val_score(RF_ensemble, X_train_ensemble, Y_train, cv=5, scoring=\"mean_squared_error\")"
   ]
  },
  {
   "cell_type": "code",
   "execution_count": 88,
   "metadata": {
    "collapsed": false
   },
   "outputs": [
    {
     "name": "stdout",
     "output_type": "stream",
     "text": [
      "Random Forest Model including Predictions as Features\n",
      "[-0.07495048 -0.07423109 -0.07587937 -0.07551595 -0.07536452]\n"
     ]
    }
   ],
   "source": [
    "RF_100_ensemble = RandomForestRegressor(n_estimators=100)\n",
    "print \"Random Forest Model including Predictions as Features\"\n",
    "print cross_val_score(RF_100_ensemble, X_train_ensemble, Y_train, cv=5, scoring=\"mean_squared_error\")"
   ]
  },
  {
   "cell_type": "code",
   "execution_count": 46,
   "metadata": {
    "collapsed": false,
    "deletable": true,
    "editable": true
   },
   "outputs": [
    {
     "name": "stdout",
     "output_type": "stream",
     "text": [
      "Bayesian Ridge Regression including Predictions as Features\n",
      "[-0.07268796 -0.07211191 -0.07364589 -0.07308256 -0.07315892]\n"
     ]
    }
   ],
   "source": [
    "BRR_ensemble = BayesianRidge(compute_score=True)\n",
    "print \"Bayesian Ridge Regression including Predictions as Features\"\n",
    "print cross_val_score(BRR_ensemble, X_train_ensemble, Y_train, cv=5, scoring=\"mean_squared_error\")"
   ]
  },
  {
   "cell_type": "code",
   "execution_count": 47,
   "metadata": {
    "collapsed": false,
    "deletable": true,
    "editable": true
   },
   "outputs": [
    {
     "name": "stdout",
     "output_type": "stream",
     "text": [
      "Lasso Regression including Predictions as Features\n",
      "[-0.16538462 -0.16626154 -0.16476814 -0.16641375 -0.16572559]\n"
     ]
    }
   ],
   "source": [
    "L_ensemble = Lasso(alpha=0.1)\n",
    "print \"Lasso Regression including Predictions as Features\"\n",
    "print cross_val_score(L_ensemble, X_train_ensemble, Y_train, cv=5, scoring=\"mean_squared_error\")"
   ]
  },
  {
   "cell_type": "markdown",
   "metadata": {},
   "source": [
    "It seems doing linear regression on the new training set does perform better than our baselines. However--this is not an altogether fair test since our original simple prediction models were fitted on the training set. Then predicting on the training set therefore, we expect to be much more accurate and relevant."
   ]
  },
  {
   "cell_type": "code",
   "execution_count": 89,
   "metadata": {
    "collapsed": false
   },
   "outputs": [
    {
     "data": {
      "text/plain": [
       "Lasso(alpha=0.1, copy_X=True, fit_intercept=True, max_iter=1000,\n",
       "   normalize=False, positive=False, precompute=False, random_state=None,\n",
       "   selection='cyclic', tol=0.0001, warm_start=False)"
      ]
     },
     "execution_count": 89,
     "metadata": {},
     "output_type": "execute_result"
    }
   ],
   "source": [
    "# Fit the models for future use\n",
    "LR_ensemble.fit(X_train_ensemble, Y_train)\n",
    "RF_ensemble.fit(X_train_ensemble, Y_train)\n",
    "RF_100_ensemble.fit(X_train_ensemble, Y_train)\n",
    "BRR_ensemble.fit(X_train_ensemble, Y_train)\n",
    "L_ensemble.fit(X_train_ensemble, Y_train)"
   ]
  },
  {
   "cell_type": "markdown",
   "metadata": {},
   "source": [
    "### Further Comparison of methods\n",
    "\n",
    "We construct a test set 100,000 data points that did not overlap with our original 100,000 data points in the training set. "
   ]
  },
  {
   "cell_type": "code",
   "execution_count": 65,
   "metadata": {
    "collapsed": false
   },
   "outputs": [
    {
     "data": {
      "text/html": [
       "<div>\n",
       "<table border=\"1\" class=\"dataframe\">\n",
       "  <thead>\n",
       "    <tr style=\"text-align: right;\">\n",
       "      <th></th>\n",
       "      <th>feat_001</th>\n",
       "      <th>feat_002</th>\n",
       "      <th>feat_003</th>\n",
       "      <th>feat_004</th>\n",
       "      <th>feat_005</th>\n",
       "      <th>feat_006</th>\n",
       "      <th>feat_007</th>\n",
       "      <th>feat_008</th>\n",
       "      <th>feat_009</th>\n",
       "      <th>feat_010</th>\n",
       "      <th>...</th>\n",
       "      <th>feat_248</th>\n",
       "      <th>feat_249</th>\n",
       "      <th>feat_250</th>\n",
       "      <th>feat_251</th>\n",
       "      <th>feat_252</th>\n",
       "      <th>feat_253</th>\n",
       "      <th>feat_254</th>\n",
       "      <th>feat_255</th>\n",
       "      <th>feat_256</th>\n",
       "      <th>gap</th>\n",
       "    </tr>\n",
       "  </thead>\n",
       "  <tbody>\n",
       "    <tr>\n",
       "      <th>490311</th>\n",
       "      <td>1.0</td>\n",
       "      <td>0.0</td>\n",
       "      <td>0.0</td>\n",
       "      <td>0.0</td>\n",
       "      <td>1.0</td>\n",
       "      <td>1.0</td>\n",
       "      <td>1.0</td>\n",
       "      <td>0.0</td>\n",
       "      <td>0.0</td>\n",
       "      <td>0.0</td>\n",
       "      <td>...</td>\n",
       "      <td>1.0</td>\n",
       "      <td>0.0</td>\n",
       "      <td>0.0</td>\n",
       "      <td>0.0</td>\n",
       "      <td>0.0</td>\n",
       "      <td>0.0</td>\n",
       "      <td>0.0</td>\n",
       "      <td>0.0</td>\n",
       "      <td>0.0</td>\n",
       "      <td>2.33</td>\n",
       "    </tr>\n",
       "    <tr>\n",
       "      <th>664466</th>\n",
       "      <td>1.0</td>\n",
       "      <td>0.0</td>\n",
       "      <td>0.0</td>\n",
       "      <td>0.0</td>\n",
       "      <td>1.0</td>\n",
       "      <td>0.0</td>\n",
       "      <td>1.0</td>\n",
       "      <td>0.0</td>\n",
       "      <td>0.0</td>\n",
       "      <td>0.0</td>\n",
       "      <td>...</td>\n",
       "      <td>1.0</td>\n",
       "      <td>0.0</td>\n",
       "      <td>0.0</td>\n",
       "      <td>1.0</td>\n",
       "      <td>0.0</td>\n",
       "      <td>0.0</td>\n",
       "      <td>0.0</td>\n",
       "      <td>0.0</td>\n",
       "      <td>0.0</td>\n",
       "      <td>1.98</td>\n",
       "    </tr>\n",
       "    <tr>\n",
       "      <th>482879</th>\n",
       "      <td>1.0</td>\n",
       "      <td>0.0</td>\n",
       "      <td>0.0</td>\n",
       "      <td>0.0</td>\n",
       "      <td>1.0</td>\n",
       "      <td>1.0</td>\n",
       "      <td>1.0</td>\n",
       "      <td>0.0</td>\n",
       "      <td>0.0</td>\n",
       "      <td>0.0</td>\n",
       "      <td>...</td>\n",
       "      <td>1.0</td>\n",
       "      <td>0.0</td>\n",
       "      <td>0.0</td>\n",
       "      <td>0.0</td>\n",
       "      <td>0.0</td>\n",
       "      <td>0.0</td>\n",
       "      <td>0.0</td>\n",
       "      <td>0.0</td>\n",
       "      <td>0.0</td>\n",
       "      <td>2.29</td>\n",
       "    </tr>\n",
       "    <tr>\n",
       "      <th>927394</th>\n",
       "      <td>1.0</td>\n",
       "      <td>0.0</td>\n",
       "      <td>0.0</td>\n",
       "      <td>0.0</td>\n",
       "      <td>1.0</td>\n",
       "      <td>0.0</td>\n",
       "      <td>1.0</td>\n",
       "      <td>0.0</td>\n",
       "      <td>0.0</td>\n",
       "      <td>0.0</td>\n",
       "      <td>...</td>\n",
       "      <td>1.0</td>\n",
       "      <td>0.0</td>\n",
       "      <td>0.0</td>\n",
       "      <td>0.0</td>\n",
       "      <td>0.0</td>\n",
       "      <td>0.0</td>\n",
       "      <td>0.0</td>\n",
       "      <td>0.0</td>\n",
       "      <td>0.0</td>\n",
       "      <td>2.30</td>\n",
       "    </tr>\n",
       "    <tr>\n",
       "      <th>170643</th>\n",
       "      <td>0.0</td>\n",
       "      <td>0.0</td>\n",
       "      <td>0.0</td>\n",
       "      <td>0.0</td>\n",
       "      <td>1.0</td>\n",
       "      <td>0.0</td>\n",
       "      <td>1.0</td>\n",
       "      <td>0.0</td>\n",
       "      <td>0.0</td>\n",
       "      <td>0.0</td>\n",
       "      <td>...</td>\n",
       "      <td>1.0</td>\n",
       "      <td>0.0</td>\n",
       "      <td>0.0</td>\n",
       "      <td>0.0</td>\n",
       "      <td>0.0</td>\n",
       "      <td>0.0</td>\n",
       "      <td>0.0</td>\n",
       "      <td>0.0</td>\n",
       "      <td>0.0</td>\n",
       "      <td>1.69</td>\n",
       "    </tr>\n",
       "  </tbody>\n",
       "</table>\n",
       "<p>5 rows × 257 columns</p>\n",
       "</div>"
      ],
      "text/plain": [
       "        feat_001  feat_002  feat_003  feat_004  feat_005  feat_006  feat_007  \\\n",
       "490311       1.0       0.0       0.0       0.0       1.0       1.0       1.0   \n",
       "664466       1.0       0.0       0.0       0.0       1.0       0.0       1.0   \n",
       "482879       1.0       0.0       0.0       0.0       1.0       1.0       1.0   \n",
       "927394       1.0       0.0       0.0       0.0       1.0       0.0       1.0   \n",
       "170643       0.0       0.0       0.0       0.0       1.0       0.0       1.0   \n",
       "\n",
       "        feat_008  feat_009  feat_010  ...   feat_248  feat_249  feat_250  \\\n",
       "490311       0.0       0.0       0.0  ...        1.0       0.0       0.0   \n",
       "664466       0.0       0.0       0.0  ...        1.0       0.0       0.0   \n",
       "482879       0.0       0.0       0.0  ...        1.0       0.0       0.0   \n",
       "927394       0.0       0.0       0.0  ...        1.0       0.0       0.0   \n",
       "170643       0.0       0.0       0.0  ...        1.0       0.0       0.0   \n",
       "\n",
       "        feat_251  feat_252  feat_253  feat_254  feat_255  feat_256   gap  \n",
       "490311       0.0       0.0       0.0       0.0       0.0       0.0  2.33  \n",
       "664466       1.0       0.0       0.0       0.0       0.0       0.0  1.98  \n",
       "482879       0.0       0.0       0.0       0.0       0.0       0.0  2.29  \n",
       "927394       0.0       0.0       0.0       0.0       0.0       0.0  2.30  \n",
       "170643       0.0       0.0       0.0       0.0       0.0       0.0  1.69  \n",
       "\n",
       "[5 rows x 257 columns]"
      ]
     },
     "execution_count": 65,
     "metadata": {},
     "output_type": "execute_result"
    }
   ],
   "source": [
    "df_test = df_train_full.sample(n=100000)\n",
    "# remove test values that were in the training set\n",
    "df_test['overlap'] = df_test.index.isin(df_train.index)\n",
    "df_test = df_test[df_test['overlap'] == 0]\n",
    "df_test = df_test.drop(['smiles'], axis=1)\n",
    "df_test = df_test.drop(['overlap'], axis=1)\n",
    "df_test.head(5)"
   ]
  },
  {
   "cell_type": "code",
   "execution_count": 66,
   "metadata": {
    "collapsed": true
   },
   "outputs": [],
   "source": [
    "Y_test = df_test.gap.values"
   ]
  },
  {
   "cell_type": "code",
   "execution_count": 78,
   "metadata": {
    "collapsed": false
   },
   "outputs": [],
   "source": [
    "# we call this X_test_ensemble because we created this new test to evaluate the algorithms including ensemble model\n",
    "X_test_new = df_test.drop(['gap'], axis=1)\n",
    "X_test_new = X_test_new.values"
   ]
  },
  {
   "cell_type": "markdown",
   "metadata": {},
   "source": [
    "#### Predictions of the simple models on the new set"
   ]
  },
  {
   "cell_type": "code",
   "execution_count": 79,
   "metadata": {
    "collapsed": false
   },
   "outputs": [],
   "source": [
    "LR_pred_test = LR.predict(X_test_new)\n",
    "BRR_pred_test = BRR.predict(X_test_new)\n",
    "RF_pred_test = RF.predict(X_test_new)\n",
    "RF_pred_100_test = RF_100.predict(X_test_new)\n",
    "L_pred_test = L.predict(X_test_new)"
   ]
  },
  {
   "cell_type": "markdown",
   "metadata": {},
   "source": [
    "#### Create new test set for ensemble methods and predictions of ensemble models on the new set"
   ]
  },
  {
   "cell_type": "code",
   "execution_count": 82,
   "metadata": {
    "collapsed": false
   },
   "outputs": [],
   "source": [
    "### Create a test set for the ensemble method\n",
    "X_test_ensemble = df_test.drop(['gap'], axis=1)\n",
    "X_test_ensemble['LR_pred'] = LR_pred_test\n",
    "X_test_ensemble['RF_pred'] = RF_pred_test\n",
    "X_test_ensemble['RF_pred_100'] = RF_pred_100_test\n",
    "X_test_ensemble['BRR_pred'] = BRR_pred_test\n",
    "X_test_ensemble['L_pred'] = L_pred_test"
   ]
  },
  {
   "cell_type": "code",
   "execution_count": 86,
   "metadata": {
    "collapsed": false
   },
   "outputs": [],
   "source": [
    "X_test_ensemble = X_test_ensemble.values"
   ]
  },
  {
   "cell_type": "code",
   "execution_count": 90,
   "metadata": {
    "collapsed": false
   },
   "outputs": [],
   "source": [
    "LR_pred_test_ensemble = LR_ensemble.predict(X_test_ensemble)\n",
    "BRR_pred_test_ensemble = BRR_ensemble.predict(X_test_ensemble)\n",
    "RF_pred_test_ensemble = RF_ensemble.predict(X_test_ensemble)\n",
    "RF_pred_100_test_ensemble = RF_100_ensemble.predict(X_test_ensemble)\n",
    "L_pred_test_ensemble = L_ensemble.predict(X_test_ensemble)"
   ]
  },
  {
   "cell_type": "markdown",
   "metadata": {},
   "source": [
    "#### Evaluate all the methods through root mean squared error"
   ]
  },
  {
   "cell_type": "code",
   "execution_count": 93,
   "metadata": {
    "collapsed": false
   },
   "outputs": [
    {
     "name": "stdout",
     "output_type": "stream",
     "text": [
      "LR_rms\n",
      "0.298618539898\n",
      "RF_rms\n",
      "0.275096230434\n",
      "BRR_rms\n",
      "0.298621208601\n",
      "L_rms\n",
      "0.405979583506\n",
      "RF_100_rms\n",
      "0.274812554882\n"
     ]
    }
   ],
   "source": [
    "# baselines Linear\n",
    "LR_rms = math.sqrt(mean_squared_error(LR_pred_test, Y_test))\n",
    "print \"LR_rms\"\n",
    "print LR_rms\n",
    "#baselines Random Forest\n",
    "RF_rms = math.sqrt(mean_squared_error(RF_pred_test, Y_test))\n",
    "print \"RF_rms\"\n",
    "print RF_rms\n",
    "BRR_rms = math.sqrt(mean_squared_error(BRR_pred_test, Y_test))\n",
    "print \"BRR_rms\"\n",
    "print BRR_rms\n",
    "# lasso regression\n",
    "L_rms = math.sqrt(mean_squared_error(L_pred_test, Y_test))\n",
    "print \"L_rms\"\n",
    "print L_rms\n",
    "# random forest with 100\n",
    "RF_100_rms = math.sqrt(mean_squared_error(RF_pred_100_test, Y_test))\n",
    "print \"RF_100_rms\"\n",
    "print RF_100_rms"
   ]
  },
  {
   "cell_type": "code",
   "execution_count": 95,
   "metadata": {
    "collapsed": false
   },
   "outputs": [
    {
     "name": "stdout",
     "output_type": "stream",
     "text": [
      "LR_ensemble_rms\n",
      "0.27484839019\n",
      "RF_ensemble_rms\n",
      "0.275236910275\n",
      "RF_ensemble_rms_100\n",
      "0.275236910275\n",
      "BRR_ensemble_rms\n",
      "0.274842213239\n",
      "L_ensemble_rms\n",
      "0.275135594831\n"
     ]
    }
   ],
   "source": [
    "# ensemble methodx\n",
    "# linear ensemble\n",
    "LR_ensemble_rms = math.sqrt(mean_squared_error(LR_pred_test_ensemble, Y_test))\n",
    "print \"LR_ensemble_rms\"\n",
    "print LR_ensemble_rms\n",
    "# random forest with \n",
    "RF_ensemble_rms = math.sqrt(mean_squared_error(RF_pred_test_ensemble, Y_test))\n",
    "print \"RF_ensemble_rms\"\n",
    "print RF_ensemble_rms\n",
    "# random forest with \n",
    "RF_ensemble_rms_100 = math.sqrt(mean_squared_error(RF_pred_test_ensemble, Y_test))\n",
    "print \"RF_ensemble_rms_100\"\n",
    "print RF_ensemble_rms_100\n",
    "# bayesian ensemble\n",
    "BRR_ensemble_rms = math.sqrt(mean_squared_error(BRR_pred_test_ensemble, Y_test))\n",
    "print \"BRR_ensemble_rms\"\n",
    "print BRR_ensemble_rms\n",
    "# lasso ensemble\n",
    "L_ensemble_rms = math.sqrt(mean_squared_error(RF_pred_100_test_ensemble, Y_test))\n",
    "print \"L_ensemble_rms\"\n",
    "print L_ensemble_rms"
   ]
  },
  {
   "cell_type": "markdown",
   "metadata": {},
   "source": [
    "### Conclusion\n",
    "In conclusion, it seems like the ensemble method works, but we might have better success after more optimizing of the hyper parameters in each model."
   ]
  },
  {
   "cell_type": "markdown",
   "metadata": {
    "deletable": true,
    "editable": true
   },
   "source": [
    "#### Evaluate"
   ]
  },
  {
   "cell_type": "code",
   "execution_count": null,
   "metadata": {
    "collapsed": false,
    "deletable": true,
    "editable": true
   },
   "outputs": [],
   "source": [
    "# baselines Linear\n",
    "LR_rms = math.sqrt(mean_squared_error(LR_pred, ensemble_test_gap))\n",
    "print \"LR_rms\"\n",
    "print LR_rms\n",
    "\n",
    "#baselines Random Forest\n",
    "RF_rms = math.sqrt(mean_squared_error(RF_pred, ensemble_test_gap))\n",
    "print \"RF_rms\"\n",
    "print RF_rms"
   ]
  },
  {
   "cell_type": "markdown",
   "metadata": {
    "deletable": true,
    "editable": true
   },
   "source": [
    "So for some reason this is even worse :( Maybe should keep all the old features as well..."
   ]
  },
  {
   "cell_type": "markdown",
   "metadata": {
    "deletable": true,
    "editable": true
   },
   "source": [
    "### Save results to CSV"
   ]
  },
  {
   "cell_type": "code",
   "execution_count": null,
   "metadata": {
    "collapsed": false,
    "deletable": true,
    "editable": true
   },
   "outputs": [],
   "source": [
    "def write_to_file(filename, predictions):\n",
    "    with open(filename, \"w\") as f:\n",
    "        f.write(\"Id,Prediction\\n\")\n",
    "        for i,p in enumerate(predictions):\n",
    "            f.write(str(i+1) + \",\" + str(p) + \"\\n\")"
   ]
  },
  {
   "cell_type": "code",
   "execution_count": null,
   "metadata": {
    "collapsed": true,
    "deletable": true,
    "editable": true
   },
   "outputs": [],
   "source": [
    "write_to_file(\"sample1.csv\", LR_pred)\n",
    "write_to_file(\"sample2.csv\", RF_pred)\n",
    "write_to_file(\"bayesianridge.csv\", BRR_pred)\n",
    "write_to_file(\"randomforest100trees.csv\", RF_pred_100)"
   ]
  },
  {
   "cell_type": "code",
   "execution_count": null,
   "metadata": {
    "collapsed": true,
    "deletable": true,
    "editable": true
   },
   "outputs": [],
   "source": []
  }
 ],
 "metadata": {
  "kernelspec": {
   "display_name": "Python 2",
   "language": "python",
   "name": "python2"
  },
  "language_info": {
   "codemirror_mode": {
    "name": "ipython",
    "version": 2
   },
   "file_extension": ".py",
   "mimetype": "text/x-python",
   "name": "python",
   "nbconvert_exporter": "python",
   "pygments_lexer": "ipython2",
   "version": "2.7.10"
  }
 },
 "nbformat": 4,
 "nbformat_minor": 0
}
