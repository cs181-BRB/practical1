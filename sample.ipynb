{
 "cells": [
  {
   "cell_type": "code",
   "execution_count": 133,
   "metadata": {
    "collapsed": false
   },
   "outputs": [],
   "source": [
    "import pandas as pd\n",
    "import numpy as np\n",
    "import matplotlib.pyplot as plt\n",
    "from sklearn.linear_model import LinearRegression, BayesianRidge, Lasso\n",
    "from sklearn.ensemble import RandomForestRegressor\n",
    "from sklearn.metrics import mean_squared_error"
   ]
  },
  {
   "cell_type": "code",
   "execution_count": 3,
   "metadata": {
    "collapsed": false
   },
   "outputs": [],
   "source": [
    "\"\"\"\n",
    "Read in train and test as Pandas DataFrames\n",
    "\"\"\"\n",
    "df_train = pd.read_csv(\"train.csv\")\n",
    "df_test = pd.read_csv(\"test.csv\")"
   ]
  },
  {
   "cell_type": "code",
   "execution_count": 18,
   "metadata": {
    "collapsed": true
   },
   "outputs": [],
   "source": [
    "df_test_full = df_test\n",
    "df_train_full = df_train"
   ]
  },
  {
   "cell_type": "code",
   "execution_count": 248,
   "metadata": {
    "collapsed": true
   },
   "outputs": [],
   "source": [
    "df_test = df_train_full.sample(n=100000)\n",
    "df_train = df_train_full.sample(n=100000)"
   ]
  },
  {
   "cell_type": "code",
   "execution_count": 249,
   "metadata": {
    "collapsed": false,
    "scrolled": true
   },
   "outputs": [
    {
     "data": {
      "text/html": [
       "<div>\n",
       "<table border=\"1\" class=\"dataframe\">\n",
       "  <thead>\n",
       "    <tr style=\"text-align: right;\">\n",
       "      <th></th>\n",
       "      <th>smiles</th>\n",
       "      <th>feat_001</th>\n",
       "      <th>feat_002</th>\n",
       "      <th>feat_003</th>\n",
       "      <th>feat_004</th>\n",
       "      <th>feat_005</th>\n",
       "      <th>feat_006</th>\n",
       "      <th>feat_007</th>\n",
       "      <th>feat_008</th>\n",
       "      <th>feat_009</th>\n",
       "      <th>...</th>\n",
       "      <th>feat_248</th>\n",
       "      <th>feat_249</th>\n",
       "      <th>feat_250</th>\n",
       "      <th>feat_251</th>\n",
       "      <th>feat_252</th>\n",
       "      <th>feat_253</th>\n",
       "      <th>feat_254</th>\n",
       "      <th>feat_255</th>\n",
       "      <th>feat_256</th>\n",
       "      <th>gap</th>\n",
       "    </tr>\n",
       "  </thead>\n",
       "  <tbody>\n",
       "    <tr>\n",
       "      <th>253124</th>\n",
       "      <td>C1=Cc2c(C1)c1ncc3cc(cnc3c1c1=CCC=c21)-c1scc2cc...</td>\n",
       "      <td>1</td>\n",
       "      <td>0</td>\n",
       "      <td>0</td>\n",
       "      <td>0</td>\n",
       "      <td>1</td>\n",
       "      <td>0</td>\n",
       "      <td>1</td>\n",
       "      <td>0</td>\n",
       "      <td>0</td>\n",
       "      <td>...</td>\n",
       "      <td>1</td>\n",
       "      <td>0</td>\n",
       "      <td>0</td>\n",
       "      <td>0</td>\n",
       "      <td>0</td>\n",
       "      <td>0</td>\n",
       "      <td>0</td>\n",
       "      <td>0</td>\n",
       "      <td>0</td>\n",
       "      <td>1.79</td>\n",
       "    </tr>\n",
       "    <tr>\n",
       "      <th>961291</th>\n",
       "      <td>c1ccc(cc1)-c1ccc2c(c1)sc1c2c2=C[SiH2]C=c2c2ccc...</td>\n",
       "      <td>1</td>\n",
       "      <td>0</td>\n",
       "      <td>0</td>\n",
       "      <td>0</td>\n",
       "      <td>1</td>\n",
       "      <td>0</td>\n",
       "      <td>1</td>\n",
       "      <td>0</td>\n",
       "      <td>0</td>\n",
       "      <td>...</td>\n",
       "      <td>0</td>\n",
       "      <td>0</td>\n",
       "      <td>0</td>\n",
       "      <td>0</td>\n",
       "      <td>0</td>\n",
       "      <td>0</td>\n",
       "      <td>0</td>\n",
       "      <td>0</td>\n",
       "      <td>0</td>\n",
       "      <td>1.53</td>\n",
       "    </tr>\n",
       "    <tr>\n",
       "      <th>455656</th>\n",
       "      <td>c1cc2ncc3cc4cc(sc4cc3c2c2c[nH]cc12)-c1cccc2=CC...</td>\n",
       "      <td>1</td>\n",
       "      <td>0</td>\n",
       "      <td>0</td>\n",
       "      <td>0</td>\n",
       "      <td>1</td>\n",
       "      <td>1</td>\n",
       "      <td>1</td>\n",
       "      <td>0</td>\n",
       "      <td>0</td>\n",
       "      <td>...</td>\n",
       "      <td>1</td>\n",
       "      <td>0</td>\n",
       "      <td>0</td>\n",
       "      <td>0</td>\n",
       "      <td>0</td>\n",
       "      <td>0</td>\n",
       "      <td>0</td>\n",
       "      <td>0</td>\n",
       "      <td>0</td>\n",
       "      <td>1.84</td>\n",
       "    </tr>\n",
       "    <tr>\n",
       "      <th>814199</th>\n",
       "      <td>[nH]1c(cc2cnc3c4sccc4c4cscc4c3c12)-c1cncc2nsnc12</td>\n",
       "      <td>0</td>\n",
       "      <td>0</td>\n",
       "      <td>0</td>\n",
       "      <td>0</td>\n",
       "      <td>1</td>\n",
       "      <td>1</td>\n",
       "      <td>1</td>\n",
       "      <td>0</td>\n",
       "      <td>0</td>\n",
       "      <td>...</td>\n",
       "      <td>1</td>\n",
       "      <td>0</td>\n",
       "      <td>0</td>\n",
       "      <td>0</td>\n",
       "      <td>0</td>\n",
       "      <td>0</td>\n",
       "      <td>0</td>\n",
       "      <td>0</td>\n",
       "      <td>0</td>\n",
       "      <td>1.37</td>\n",
       "    </tr>\n",
       "    <tr>\n",
       "      <th>574823</th>\n",
       "      <td>c1sc(-c2sc(-c3ccccn3)c3sccc23)c2nccnc12</td>\n",
       "      <td>0</td>\n",
       "      <td>0</td>\n",
       "      <td>0</td>\n",
       "      <td>0</td>\n",
       "      <td>1</td>\n",
       "      <td>0</td>\n",
       "      <td>1</td>\n",
       "      <td>0</td>\n",
       "      <td>0</td>\n",
       "      <td>...</td>\n",
       "      <td>1</td>\n",
       "      <td>0</td>\n",
       "      <td>0</td>\n",
       "      <td>0</td>\n",
       "      <td>0</td>\n",
       "      <td>0</td>\n",
       "      <td>0</td>\n",
       "      <td>0</td>\n",
       "      <td>0</td>\n",
       "      <td>1.51</td>\n",
       "    </tr>\n",
       "  </tbody>\n",
       "</table>\n",
       "<p>5 rows × 258 columns</p>\n",
       "</div>"
      ],
      "text/plain": [
       "                                                   smiles  feat_001  feat_002  \\\n",
       "253124  C1=Cc2c(C1)c1ncc3cc(cnc3c1c1=CCC=c21)-c1scc2cc...         1         0   \n",
       "961291  c1ccc(cc1)-c1ccc2c(c1)sc1c2c2=C[SiH2]C=c2c2ccc...         1         0   \n",
       "455656  c1cc2ncc3cc4cc(sc4cc3c2c2c[nH]cc12)-c1cccc2=CC...         1         0   \n",
       "814199   [nH]1c(cc2cnc3c4sccc4c4cscc4c3c12)-c1cncc2nsnc12         0         0   \n",
       "574823            c1sc(-c2sc(-c3ccccn3)c3sccc23)c2nccnc12         0         0   \n",
       "\n",
       "        feat_003  feat_004  feat_005  feat_006  feat_007  feat_008  feat_009  \\\n",
       "253124         0         0         1         0         1         0         0   \n",
       "961291         0         0         1         0         1         0         0   \n",
       "455656         0         0         1         1         1         0         0   \n",
       "814199         0         0         1         1         1         0         0   \n",
       "574823         0         0         1         0         1         0         0   \n",
       "\n",
       "        ...   feat_248  feat_249  feat_250  feat_251  feat_252  feat_253  \\\n",
       "253124  ...          1         0         0         0         0         0   \n",
       "961291  ...          0         0         0         0         0         0   \n",
       "455656  ...          1         0         0         0         0         0   \n",
       "814199  ...          1         0         0         0         0         0   \n",
       "574823  ...          1         0         0         0         0         0   \n",
       "\n",
       "        feat_254  feat_255  feat_256   gap  \n",
       "253124         0         0         0  1.79  \n",
       "961291         0         0         0  1.53  \n",
       "455656         0         0         0  1.84  \n",
       "814199         0         0         0  1.37  \n",
       "574823         0         0         0  1.51  \n",
       "\n",
       "[5 rows x 258 columns]"
      ]
     },
     "execution_count": 249,
     "metadata": {},
     "output_type": "execute_result"
    }
   ],
   "source": [
    "df_train.head()"
   ]
  },
  {
   "cell_type": "code",
   "execution_count": 250,
   "metadata": {
    "collapsed": false,
    "scrolled": true
   },
   "outputs": [
    {
     "data": {
      "text/html": [
       "<div>\n",
       "<table border=\"1\" class=\"dataframe\">\n",
       "  <thead>\n",
       "    <tr style=\"text-align: right;\">\n",
       "      <th></th>\n",
       "      <th>smiles</th>\n",
       "      <th>feat_001</th>\n",
       "      <th>feat_002</th>\n",
       "      <th>feat_003</th>\n",
       "      <th>feat_004</th>\n",
       "      <th>feat_005</th>\n",
       "      <th>feat_006</th>\n",
       "      <th>feat_007</th>\n",
       "      <th>feat_008</th>\n",
       "      <th>feat_009</th>\n",
       "      <th>...</th>\n",
       "      <th>feat_248</th>\n",
       "      <th>feat_249</th>\n",
       "      <th>feat_250</th>\n",
       "      <th>feat_251</th>\n",
       "      <th>feat_252</th>\n",
       "      <th>feat_253</th>\n",
       "      <th>feat_254</th>\n",
       "      <th>feat_255</th>\n",
       "      <th>feat_256</th>\n",
       "      <th>gap</th>\n",
       "    </tr>\n",
       "  </thead>\n",
       "  <tbody>\n",
       "    <tr>\n",
       "      <th>867846</th>\n",
       "      <td>[nH]1cccc1-c1[SiH2]c(cc1)-c1ccc(cc1)-c1scc2cc[...</td>\n",
       "      <td>1</td>\n",
       "      <td>0</td>\n",
       "      <td>0</td>\n",
       "      <td>0</td>\n",
       "      <td>1</td>\n",
       "      <td>1</td>\n",
       "      <td>1</td>\n",
       "      <td>0</td>\n",
       "      <td>0</td>\n",
       "      <td>...</td>\n",
       "      <td>1</td>\n",
       "      <td>0</td>\n",
       "      <td>0</td>\n",
       "      <td>1</td>\n",
       "      <td>0</td>\n",
       "      <td>0</td>\n",
       "      <td>0</td>\n",
       "      <td>0</td>\n",
       "      <td>0</td>\n",
       "      <td>1.80</td>\n",
       "    </tr>\n",
       "    <tr>\n",
       "      <th>79322</th>\n",
       "      <td>c1sc(-c2sc(c3[SiH2]ccc23)-c2ccc(cc2)-c2nccc3ns...</td>\n",
       "      <td>1</td>\n",
       "      <td>0</td>\n",
       "      <td>0</td>\n",
       "      <td>0</td>\n",
       "      <td>1</td>\n",
       "      <td>1</td>\n",
       "      <td>1</td>\n",
       "      <td>0</td>\n",
       "      <td>0</td>\n",
       "      <td>...</td>\n",
       "      <td>1</td>\n",
       "      <td>0</td>\n",
       "      <td>0</td>\n",
       "      <td>0</td>\n",
       "      <td>0</td>\n",
       "      <td>0</td>\n",
       "      <td>0</td>\n",
       "      <td>0</td>\n",
       "      <td>0</td>\n",
       "      <td>1.24</td>\n",
       "    </tr>\n",
       "    <tr>\n",
       "      <th>806798</th>\n",
       "      <td>c1cc2c3nsnc3c3c4[SiH2]C(=Cc4ccc3c2s1)c1cncc2ns...</td>\n",
       "      <td>1</td>\n",
       "      <td>0</td>\n",
       "      <td>0</td>\n",
       "      <td>0</td>\n",
       "      <td>1</td>\n",
       "      <td>0</td>\n",
       "      <td>1</td>\n",
       "      <td>0</td>\n",
       "      <td>0</td>\n",
       "      <td>...</td>\n",
       "      <td>1</td>\n",
       "      <td>0</td>\n",
       "      <td>0</td>\n",
       "      <td>1</td>\n",
       "      <td>0</td>\n",
       "      <td>0</td>\n",
       "      <td>0</td>\n",
       "      <td>0</td>\n",
       "      <td>0</td>\n",
       "      <td>1.82</td>\n",
       "    </tr>\n",
       "    <tr>\n",
       "      <th>232257</th>\n",
       "      <td>[nH]1c2ccncc2c2cc3c4c[nH]cc4c(cc3cc12)-c1nccs1</td>\n",
       "      <td>0</td>\n",
       "      <td>0</td>\n",
       "      <td>0</td>\n",
       "      <td>0</td>\n",
       "      <td>1</td>\n",
       "      <td>1</td>\n",
       "      <td>1</td>\n",
       "      <td>0</td>\n",
       "      <td>0</td>\n",
       "      <td>...</td>\n",
       "      <td>1</td>\n",
       "      <td>0</td>\n",
       "      <td>0</td>\n",
       "      <td>0</td>\n",
       "      <td>0</td>\n",
       "      <td>0</td>\n",
       "      <td>0</td>\n",
       "      <td>0</td>\n",
       "      <td>0</td>\n",
       "      <td>2.32</td>\n",
       "    </tr>\n",
       "    <tr>\n",
       "      <th>393507</th>\n",
       "      <td>c1sc(-c2cnc(s2)-c2ccc(-c3scc4nccnc34)c3cocc23)...</td>\n",
       "      <td>0</td>\n",
       "      <td>0</td>\n",
       "      <td>0</td>\n",
       "      <td>0</td>\n",
       "      <td>1</td>\n",
       "      <td>0</td>\n",
       "      <td>1</td>\n",
       "      <td>0</td>\n",
       "      <td>0</td>\n",
       "      <td>...</td>\n",
       "      <td>1</td>\n",
       "      <td>0</td>\n",
       "      <td>0</td>\n",
       "      <td>0</td>\n",
       "      <td>0</td>\n",
       "      <td>0</td>\n",
       "      <td>0</td>\n",
       "      <td>0</td>\n",
       "      <td>0</td>\n",
       "      <td>1.45</td>\n",
       "    </tr>\n",
       "  </tbody>\n",
       "</table>\n",
       "<p>5 rows × 258 columns</p>\n",
       "</div>"
      ],
      "text/plain": [
       "                                                   smiles  feat_001  feat_002  \\\n",
       "867846  [nH]1cccc1-c1[SiH2]c(cc1)-c1ccc(cc1)-c1scc2cc[...         1         0   \n",
       "79322   c1sc(-c2sc(c3[SiH2]ccc23)-c2ccc(cc2)-c2nccc3ns...         1         0   \n",
       "806798  c1cc2c3nsnc3c3c4[SiH2]C(=Cc4ccc3c2s1)c1cncc2ns...         1         0   \n",
       "232257     [nH]1c2ccncc2c2cc3c4c[nH]cc4c(cc3cc12)-c1nccs1         0         0   \n",
       "393507  c1sc(-c2cnc(s2)-c2ccc(-c3scc4nccnc34)c3cocc23)...         0         0   \n",
       "\n",
       "        feat_003  feat_004  feat_005  feat_006  feat_007  feat_008  feat_009  \\\n",
       "867846         0         0         1         1         1         0         0   \n",
       "79322          0         0         1         1         1         0         0   \n",
       "806798         0         0         1         0         1         0         0   \n",
       "232257         0         0         1         1         1         0         0   \n",
       "393507         0         0         1         0         1         0         0   \n",
       "\n",
       "        ...   feat_248  feat_249  feat_250  feat_251  feat_252  feat_253  \\\n",
       "867846  ...          1         0         0         1         0         0   \n",
       "79322   ...          1         0         0         0         0         0   \n",
       "806798  ...          1         0         0         1         0         0   \n",
       "232257  ...          1         0         0         0         0         0   \n",
       "393507  ...          1         0         0         0         0         0   \n",
       "\n",
       "        feat_254  feat_255  feat_256   gap  \n",
       "867846         0         0         0  1.80  \n",
       "79322          0         0         0  1.24  \n",
       "806798         0         0         0  1.82  \n",
       "232257         0         0         0  2.32  \n",
       "393507         0         0         0  1.45  \n",
       "\n",
       "[5 rows x 258 columns]"
      ]
     },
     "execution_count": 250,
     "metadata": {},
     "output_type": "execute_result"
    }
   ],
   "source": [
    "df_test.head()"
   ]
  },
  {
   "cell_type": "code",
   "execution_count": 251,
   "metadata": {
    "collapsed": false
   },
   "outputs": [],
   "source": [
    "test_ids = df_test.index\n",
    "test_gap = df_test.gap"
   ]
  },
  {
   "cell_type": "code",
   "execution_count": 252,
   "metadata": {
    "collapsed": false
   },
   "outputs": [],
   "source": [
    "#store gap values\n",
    "Y_train = df_train.gap.values\n",
    "#row where testing examples start\n",
    "test_idx = df_train.shape[0]\n",
    "#delete 'Id' column\n",
    "# df_test = df_test.drop(['Unnamed: 0'], axis=1)\n",
    "#delete 'gap' column\n",
    "df_train = df_train.drop(['gap'], axis=1)\n",
    "df_test = df_test.drop(['gap'], axis=1)"
   ]
  },
  {
   "cell_type": "code",
   "execution_count": 253,
   "metadata": {
    "collapsed": false
   },
   "outputs": [
    {
     "data": {
      "text/html": [
       "<div>\n",
       "<table border=\"1\" class=\"dataframe\">\n",
       "  <thead>\n",
       "    <tr style=\"text-align: right;\">\n",
       "      <th></th>\n",
       "      <th>smiles</th>\n",
       "      <th>feat_001</th>\n",
       "      <th>feat_002</th>\n",
       "      <th>feat_003</th>\n",
       "      <th>feat_004</th>\n",
       "      <th>feat_005</th>\n",
       "      <th>feat_006</th>\n",
       "      <th>feat_007</th>\n",
       "      <th>feat_008</th>\n",
       "      <th>feat_009</th>\n",
       "      <th>...</th>\n",
       "      <th>feat_247</th>\n",
       "      <th>feat_248</th>\n",
       "      <th>feat_249</th>\n",
       "      <th>feat_250</th>\n",
       "      <th>feat_251</th>\n",
       "      <th>feat_252</th>\n",
       "      <th>feat_253</th>\n",
       "      <th>feat_254</th>\n",
       "      <th>feat_255</th>\n",
       "      <th>feat_256</th>\n",
       "    </tr>\n",
       "  </thead>\n",
       "  <tbody>\n",
       "    <tr>\n",
       "      <th>253124</th>\n",
       "      <td>C1=Cc2c(C1)c1ncc3cc(cnc3c1c1=CCC=c21)-c1scc2cc...</td>\n",
       "      <td>1</td>\n",
       "      <td>0</td>\n",
       "      <td>0</td>\n",
       "      <td>0</td>\n",
       "      <td>1</td>\n",
       "      <td>0</td>\n",
       "      <td>1</td>\n",
       "      <td>0</td>\n",
       "      <td>0</td>\n",
       "      <td>...</td>\n",
       "      <td>0</td>\n",
       "      <td>1</td>\n",
       "      <td>0</td>\n",
       "      <td>0</td>\n",
       "      <td>0</td>\n",
       "      <td>0</td>\n",
       "      <td>0</td>\n",
       "      <td>0</td>\n",
       "      <td>0</td>\n",
       "      <td>0</td>\n",
       "    </tr>\n",
       "    <tr>\n",
       "      <th>961291</th>\n",
       "      <td>c1ccc(cc1)-c1ccc2c(c1)sc1c2c2=C[SiH2]C=c2c2ccc...</td>\n",
       "      <td>1</td>\n",
       "      <td>0</td>\n",
       "      <td>0</td>\n",
       "      <td>0</td>\n",
       "      <td>1</td>\n",
       "      <td>0</td>\n",
       "      <td>1</td>\n",
       "      <td>0</td>\n",
       "      <td>0</td>\n",
       "      <td>...</td>\n",
       "      <td>0</td>\n",
       "      <td>0</td>\n",
       "      <td>0</td>\n",
       "      <td>0</td>\n",
       "      <td>0</td>\n",
       "      <td>0</td>\n",
       "      <td>0</td>\n",
       "      <td>0</td>\n",
       "      <td>0</td>\n",
       "      <td>0</td>\n",
       "    </tr>\n",
       "    <tr>\n",
       "      <th>455656</th>\n",
       "      <td>c1cc2ncc3cc4cc(sc4cc3c2c2c[nH]cc12)-c1cccc2=CC...</td>\n",
       "      <td>1</td>\n",
       "      <td>0</td>\n",
       "      <td>0</td>\n",
       "      <td>0</td>\n",
       "      <td>1</td>\n",
       "      <td>1</td>\n",
       "      <td>1</td>\n",
       "      <td>0</td>\n",
       "      <td>0</td>\n",
       "      <td>...</td>\n",
       "      <td>0</td>\n",
       "      <td>1</td>\n",
       "      <td>0</td>\n",
       "      <td>0</td>\n",
       "      <td>0</td>\n",
       "      <td>0</td>\n",
       "      <td>0</td>\n",
       "      <td>0</td>\n",
       "      <td>0</td>\n",
       "      <td>0</td>\n",
       "    </tr>\n",
       "    <tr>\n",
       "      <th>814199</th>\n",
       "      <td>[nH]1c(cc2cnc3c4sccc4c4cscc4c3c12)-c1cncc2nsnc12</td>\n",
       "      <td>0</td>\n",
       "      <td>0</td>\n",
       "      <td>0</td>\n",
       "      <td>0</td>\n",
       "      <td>1</td>\n",
       "      <td>1</td>\n",
       "      <td>1</td>\n",
       "      <td>0</td>\n",
       "      <td>0</td>\n",
       "      <td>...</td>\n",
       "      <td>0</td>\n",
       "      <td>1</td>\n",
       "      <td>0</td>\n",
       "      <td>0</td>\n",
       "      <td>0</td>\n",
       "      <td>0</td>\n",
       "      <td>0</td>\n",
       "      <td>0</td>\n",
       "      <td>0</td>\n",
       "      <td>0</td>\n",
       "    </tr>\n",
       "    <tr>\n",
       "      <th>574823</th>\n",
       "      <td>c1sc(-c2sc(-c3ccccn3)c3sccc23)c2nccnc12</td>\n",
       "      <td>0</td>\n",
       "      <td>0</td>\n",
       "      <td>0</td>\n",
       "      <td>0</td>\n",
       "      <td>1</td>\n",
       "      <td>0</td>\n",
       "      <td>1</td>\n",
       "      <td>0</td>\n",
       "      <td>0</td>\n",
       "      <td>...</td>\n",
       "      <td>0</td>\n",
       "      <td>1</td>\n",
       "      <td>0</td>\n",
       "      <td>0</td>\n",
       "      <td>0</td>\n",
       "      <td>0</td>\n",
       "      <td>0</td>\n",
       "      <td>0</td>\n",
       "      <td>0</td>\n",
       "      <td>0</td>\n",
       "    </tr>\n",
       "  </tbody>\n",
       "</table>\n",
       "<p>5 rows × 257 columns</p>\n",
       "</div>"
      ],
      "text/plain": [
       "                                                   smiles  feat_001  feat_002  \\\n",
       "253124  C1=Cc2c(C1)c1ncc3cc(cnc3c1c1=CCC=c21)-c1scc2cc...         1         0   \n",
       "961291  c1ccc(cc1)-c1ccc2c(c1)sc1c2c2=C[SiH2]C=c2c2ccc...         1         0   \n",
       "455656  c1cc2ncc3cc4cc(sc4cc3c2c2c[nH]cc12)-c1cccc2=CC...         1         0   \n",
       "814199   [nH]1c(cc2cnc3c4sccc4c4cscc4c3c12)-c1cncc2nsnc12         0         0   \n",
       "574823            c1sc(-c2sc(-c3ccccn3)c3sccc23)c2nccnc12         0         0   \n",
       "\n",
       "        feat_003  feat_004  feat_005  feat_006  feat_007  feat_008  feat_009  \\\n",
       "253124         0         0         1         0         1         0         0   \n",
       "961291         0         0         1         0         1         0         0   \n",
       "455656         0         0         1         1         1         0         0   \n",
       "814199         0         0         1         1         1         0         0   \n",
       "574823         0         0         1         0         1         0         0   \n",
       "\n",
       "          ...     feat_247  feat_248  feat_249  feat_250  feat_251  feat_252  \\\n",
       "253124    ...            0         1         0         0         0         0   \n",
       "961291    ...            0         0         0         0         0         0   \n",
       "455656    ...            0         1         0         0         0         0   \n",
       "814199    ...            0         1         0         0         0         0   \n",
       "574823    ...            0         1         0         0         0         0   \n",
       "\n",
       "        feat_253  feat_254  feat_255  feat_256  \n",
       "253124         0         0         0         0  \n",
       "961291         0         0         0         0  \n",
       "455656         0         0         0         0  \n",
       "814199         0         0         0         0  \n",
       "574823         0         0         0         0  \n",
       "\n",
       "[5 rows x 257 columns]"
      ]
     },
     "execution_count": 253,
     "metadata": {},
     "output_type": "execute_result"
    }
   ],
   "source": [
    "#DataFrame with all train and test examples so we can more easily apply feature engineering on\n",
    "df_all = pd.concat((df_train, df_test), axis=0)\n",
    "df_all.head()"
   ]
  },
  {
   "cell_type": "code",
   "execution_count": 254,
   "metadata": {
    "collapsed": false
   },
   "outputs": [
    {
     "data": {
      "text/plain": [
       "'\\nExample Feature Engineering\\n\\nthis calculates the length of each smile string and adds a feature column with those lengths\\nNote: this is NOT a good feature and will result in a lower score!\\n'"
      ]
     },
     "execution_count": 254,
     "metadata": {},
     "output_type": "execute_result"
    }
   ],
   "source": [
    "\"\"\"\n",
    "Example Feature Engineering\n",
    "\n",
    "this calculates the length of each smile string and adds a feature column with those lengths\n",
    "Note: this is NOT a good feature and will result in a lower score!\n",
    "\"\"\"\n",
    "#smiles_len = np.vstack(df_all.smiles.astype(str).apply(lambda x: len(x)))\n",
    "#df_all['smiles_len'] = pd.DataFrame(smiles_len)\n"
   ]
  },
  {
   "cell_type": "code",
   "execution_count": 255,
   "metadata": {
    "collapsed": false
   },
   "outputs": [
    {
     "name": "stdout",
     "output_type": "stream",
     "text": [
      "Train features: (100000, 256)\n",
      "Train gap: (100000,)\n",
      "Test features: (100000, 256)\n"
     ]
    }
   ],
   "source": [
    "#Drop the 'smiles' column\n",
    "df_all = df_all.drop(['smiles'], axis=1)\n",
    "vals = df_all.values\n",
    "X_train = vals[:test_idx]\n",
    "X_test = vals[test_idx:]\n",
    "print \"Train features:\", X_train.shape\n",
    "print \"Train gap:\", Y_train.shape\n",
    "print \"Test features:\", X_test.shape"
   ]
  },
  {
   "cell_type": "code",
   "execution_count": 256,
   "metadata": {
    "collapsed": false
   },
   "outputs": [],
   "source": [
    "LR = LinearRegression()\n",
    "LR.fit(X_train, Y_train)\n",
    "LR_pred = LR.predict(X_test)"
   ]
  },
  {
   "cell_type": "code",
   "execution_count": 257,
   "metadata": {
    "collapsed": false
   },
   "outputs": [],
   "source": [
    "RF = RandomForestRegressor()\n",
    "RF.fit(X_train, Y_train)\n",
    "RF_pred = RF.predict(X_test)"
   ]
  },
  {
   "cell_type": "code",
   "execution_count": 258,
   "metadata": {
    "collapsed": true
   },
   "outputs": [],
   "source": [
    "RF_100 = RandomForestRegressor(n_estimators=100)\n",
    "RF_100.fit(X_train, Y_train)\n",
    "RF_pred_100 = RF_100.predict(X_test)"
   ]
  },
  {
   "cell_type": "code",
   "execution_count": 259,
   "metadata": {
    "collapsed": false
   },
   "outputs": [],
   "source": [
    "# Bayesian Ridge Regression\n",
    "BRR = BayesianRidge(compute_score=True)\n",
    "BRR.fit(X_train, Y_train)\n",
    "BRR_pred = BRR.predict(X_test)"
   ]
  },
  {
   "cell_type": "code",
   "execution_count": 260,
   "metadata": {
    "collapsed": false
   },
   "outputs": [],
   "source": [
    "# Lasso Regression\n",
    "L = Lasso(alpha=0.1)\n",
    "L.fit(X_train, Y_train)\n",
    "L_pred = L.predict(X_test)"
   ]
  },
  {
   "cell_type": "markdown",
   "metadata": {},
   "source": [
    "### Comparing apples to apples for ensemble"
   ]
  },
  {
   "cell_type": "code",
   "execution_count": 261,
   "metadata": {
    "collapsed": false
   },
   "outputs": [],
   "source": [
    "ensemble_train = df_train.drop(['smiles'], axis=1)\n",
    "X_train_ensemble = ensemble_train.values\n",
    "ensemble_train['LR_pred'] = LR.predict(X_train_ensemble)\n",
    "ensemble_train['RF_pred_100'] = RF_100.predict(X_train_ensemble)\n",
    "ensemble_train['BRR_pred'] = BRR.predict(X_train_ensemble)\n",
    "ensemble_train['L_pred'] = L.predict(X_train_ensemble)"
   ]
  },
  {
   "cell_type": "code",
   "execution_count": 262,
   "metadata": {
    "collapsed": true
   },
   "outputs": [],
   "source": [
    "# get new X train with the prediction values\n",
    "X_train_ensemble = ensemble_train.values"
   ]
  },
  {
   "cell_type": "code",
   "execution_count": 263,
   "metadata": {
    "collapsed": true
   },
   "outputs": [],
   "source": [
    "ensemble_test = df_test.drop(['smiles'], axis=1)\n",
    "X_test_ensemble = ensemble_test.values\n",
    "ensemble_test['LR_pred'] = LR.predict(X_test_ensemble)\n",
    "ensemble_test['RF_pred_100'] = RF_100.predict(X_test_ensemble)\n",
    "ensemble_test['BRR_pred'] = BRR.predict(X_test_ensemble)\n",
    "ensemble_test['L_pred'] = L.predict(X_test_ensemble)\n",
    "# get new X test with the prediction values\n",
    "X_test_ensemble = ensemble_test.values"
   ]
  },
  {
   "cell_type": "code",
   "execution_count": 264,
   "metadata": {
    "collapsed": false
   },
   "outputs": [],
   "source": [
    "LR_ensemble = LinearRegression()\n",
    "LR_ensemble.fit(X_train_ensemble, Y_train)\n",
    "LR_ensemble_pred = LR_ensemble.predict(X_test_ensemble)\n",
    "\n",
    "RF_ensemble = RandomForestRegressor(n_estimators=100)\n",
    "RF_ensemble.fit(X_train_ensemble, Y_train)\n",
    "RF_ensemble_pred = RF_ensemble.predict(X_test_ensemble)"
   ]
  },
  {
   "cell_type": "code",
   "execution_count": 271,
   "metadata": {
    "collapsed": false
   },
   "outputs": [],
   "source": [
    "# Bayesian Ridge Regression\n",
    "BRR_ensemble = BayesianRidge(compute_score=True)\n",
    "BRR_ensemble.fit(X_train_ensemble, Y_train)\n",
    "BRR_ensemble_pred = BRR_ensemble.predict(X_test_ensemble)"
   ]
  },
  {
   "cell_type": "code",
   "execution_count": 274,
   "metadata": {
    "collapsed": false
   },
   "outputs": [],
   "source": [
    "# Lasso Regression\n",
    "L_ensemble = Lasso(alpha=0.1)\n",
    "L_ensemble.fit(X_train_ensemble, Y_train)\n",
    "L_ensemble_pred = L_ensemble.predict(X_test_ensemble)"
   ]
  },
  {
   "cell_type": "markdown",
   "metadata": {},
   "source": [
    "### Evaluation of these Algorithms"
   ]
  },
  {
   "cell_type": "code",
   "execution_count": 265,
   "metadata": {
    "collapsed": false
   },
   "outputs": [
    {
     "name": "stdout",
     "output_type": "stream",
     "text": [
      "LR_rms\n",
      "0.299570007751\n",
      "RF_rms\n",
      "0.275082215811\n"
     ]
    }
   ],
   "source": [
    "# baselines Linear\n",
    "LR_rms = math.sqrt(mean_squared_error(LR_pred, test_gap))\n",
    "print \"LR_rms\"\n",
    "print LR_rms\n",
    "\n",
    "#baselines Random Forest\n",
    "RF_rms = math.sqrt(mean_squared_error(RF_pred, test_gap))\n",
    "print \"RF_rms\"\n",
    "print RF_rms"
   ]
  },
  {
   "cell_type": "code",
   "execution_count": 266,
   "metadata": {
    "collapsed": false,
    "scrolled": true
   },
   "outputs": [
    {
     "name": "stdout",
     "output_type": "stream",
     "text": [
      "BRR_rms\n",
      "0.299563390761\n"
     ]
    }
   ],
   "source": [
    "BRR_rms = math.sqrt(mean_squared_error(BRR_pred, test_gap))\n",
    "print \"BRR_rms\"\n",
    "print BRR_rms"
   ]
  },
  {
   "cell_type": "code",
   "execution_count": 267,
   "metadata": {
    "collapsed": false
   },
   "outputs": [
    {
     "name": "stdout",
     "output_type": "stream",
     "text": [
      "L_rms\n",
      "0.40840438825\n"
     ]
    }
   ],
   "source": [
    "# lasso regression\n",
    "L_rms = math.sqrt(mean_squared_error(L_pred, test_gap))\n",
    "print \"L_rms\"\n",
    "print L_rms"
   ]
  },
  {
   "cell_type": "code",
   "execution_count": 268,
   "metadata": {
    "collapsed": false
   },
   "outputs": [
    {
     "name": "stdout",
     "output_type": "stream",
     "text": [
      "RF_100_rms\n",
      "0.274914290212\n"
     ]
    }
   ],
   "source": [
    "# random forest with 100\n",
    "RF_100_rms = math.sqrt(mean_squared_error(RF_pred_100, test_gap))\n",
    "print \"RF_100_rms\"\n",
    "print RF_100_rms"
   ]
  },
  {
   "cell_type": "code",
   "execution_count": 277,
   "metadata": {
    "collapsed": false
   },
   "outputs": [
    {
     "name": "stdout",
     "output_type": "stream",
     "text": [
      "RF_ensemble_rms\n",
      "0.275113725376\n",
      "LR_ensemble_rms\n",
      "0.274943867533\n",
      "BRR_ensemble_rms\n",
      "0.274927986465\n",
      "L_ensemble_rms\n",
      "0.40840438825\n"
     ]
    }
   ],
   "source": [
    "# ensemble methodx\n",
    "# random forest with 100\n",
    "RF_ensemble_rms = math.sqrt(mean_squared_error(RF_ensemble_pred, test_gap))\n",
    "print \"RF_ensemble_rms\"\n",
    "print RF_ensemble_rms\n",
    "# linear ensemble\n",
    "LR_ensemble_rms = math.sqrt(mean_squared_error(LR_ensemble_pred, test_gap))\n",
    "print \"LR_ensemble_rms\"\n",
    "print LR_ensemble_rms\n",
    "# bayesian ensemble\n",
    "BRR_ensemble_rms = math.sqrt(mean_squared_error(BRR_ensemble_pred, test_gap))\n",
    "print \"BRR_ensemble_rms\"\n",
    "print BRR_ensemble_rms\n",
    "# lasso ensemble\n",
    "L_ensemble_rms = math.sqrt(mean_squared_error(L_ensemble_pred, test_gap))\n",
    "print \"L_ensemble_rms\"\n",
    "print L_ensemble_rms"
   ]
  },
  {
   "cell_type": "markdown",
   "metadata": {},
   "source": [
    "# Why do linear and BRR outperform RF in this case? Maybe RF had too high variance for this?"
   ]
  },
  {
   "cell_type": "code",
   "execution_count": 281,
   "metadata": {
    "collapsed": true
   },
   "outputs": [],
   "source": [
    "params = LR_ensemble.coef_"
   ]
  },
  {
   "cell_type": "code",
   "execution_count": 284,
   "metadata": {
    "collapsed": false
   },
   "outputs": [
    {
     "data": {
      "text/plain": [
       "array([  4.42444378e+07,  -1.95058053e+12,  -1.38558148e+12,\n",
       "         2.25499514e+12,   3.82361196e+08,   4.03375299e+10,\n",
       "         2.83021809e+08,  -1.62653366e+11,  -6.14707323e+11,\n",
       "         1.86833093e+12,   2.83126232e+11,  -2.95404314e+12,\n",
       "        -2.28141956e+12,  -6.01581161e+11,   1.59291832e+12,\n",
       "        -3.86398288e+12,   1.47795058e+12,  -6.77790848e+11,\n",
       "         3.73573590e+11,   1.28637902e+12,  -1.26465385e+12,\n",
       "        -9.65515747e+11,  -1.02577936e+12,   1.34299933e+12,\n",
       "        -1.08067147e+08,  -4.94906910e+10,   2.74680378e+12,\n",
       "        -9.61558698e+11,  -6.41537533e+10,   2.29208503e+11,\n",
       "        -2.24975905e+12,   2.34078846e+11,  -1.45196887e+12,\n",
       "        -8.48244011e-04,   5.24092190e-04,   5.79958978e-04,\n",
       "         3.56118132e+08,   3.49460599e-04,   1.30439679e-04,\n",
       "         1.04755903e-04,  -2.50456897e-06,   4.98008060e-04,\n",
       "        -1.73099591e-04,   5.57556486e+08,  -3.56765783e-05,\n",
       "         1.95754863e-05,   1.69928204e-05,  -4.85320161e-07,\n",
       "         8.94611807e-08,  -3.60749226e-09,   9.96332974e-10,\n",
       "         8.42803583e-11,   7.32450664e-12,  -1.01994365e-12,\n",
       "        -1.84613768e-13,  -5.51560333e-16,   1.33376993e-17,\n",
       "        -3.06928860e-18,  -5.18899175e-20,  -6.28634239e-23,\n",
       "         2.90270051e-25,   4.50368336e-29,   1.27496853e-34,\n",
       "         0.00000000e+00,   0.00000000e+00,   0.00000000e+00,\n",
       "         0.00000000e+00,  -3.79541883e+08,  -4.56031164e+08,\n",
       "         0.00000000e+00,   0.00000000e+00,  -2.77802331e+07,\n",
       "         0.00000000e+00,   0.00000000e+00,   0.00000000e+00,\n",
       "         0.00000000e+00,   0.00000000e+00,   0.00000000e+00,\n",
       "         0.00000000e+00,   0.00000000e+00,   0.00000000e+00,\n",
       "         0.00000000e+00,   0.00000000e+00,   0.00000000e+00,\n",
       "         0.00000000e+00,   0.00000000e+00,  -1.08475790e+08,\n",
       "         0.00000000e+00,   0.00000000e+00,  -1.61828751e+08,\n",
       "         0.00000000e+00,   0.00000000e+00,   0.00000000e+00,\n",
       "         0.00000000e+00,   0.00000000e+00,   0.00000000e+00,\n",
       "         0.00000000e+00,   0.00000000e+00,   0.00000000e+00,\n",
       "         0.00000000e+00,   0.00000000e+00,  -9.67581210e+10,\n",
       "         0.00000000e+00,   0.00000000e+00,   0.00000000e+00,\n",
       "         0.00000000e+00,   0.00000000e+00,   0.00000000e+00,\n",
       "         0.00000000e+00,   0.00000000e+00,   0.00000000e+00,\n",
       "         0.00000000e+00,   0.00000000e+00,   0.00000000e+00,\n",
       "         0.00000000e+00,   0.00000000e+00,   0.00000000e+00,\n",
       "         0.00000000e+00,  -7.35310007e+08,   0.00000000e+00,\n",
       "         0.00000000e+00,   0.00000000e+00,  -4.34998942e+07,\n",
       "         0.00000000e+00,   0.00000000e+00,   2.31683396e+07,\n",
       "         0.00000000e+00,   0.00000000e+00,   0.00000000e+00,\n",
       "         0.00000000e+00,   0.00000000e+00,  -1.28401280e+08,\n",
       "         0.00000000e+00,   0.00000000e+00,   0.00000000e+00,\n",
       "         0.00000000e+00,   0.00000000e+00,   0.00000000e+00,\n",
       "         0.00000000e+00,   0.00000000e+00,   0.00000000e+00,\n",
       "         0.00000000e+00,   0.00000000e+00,   0.00000000e+00,\n",
       "         0.00000000e+00,   0.00000000e+00,   0.00000000e+00,\n",
       "         0.00000000e+00,   0.00000000e+00,   0.00000000e+00,\n",
       "         0.00000000e+00,   0.00000000e+00,   0.00000000e+00,\n",
       "         0.00000000e+00,   0.00000000e+00,   0.00000000e+00,\n",
       "         0.00000000e+00,   0.00000000e+00,   0.00000000e+00,\n",
       "         0.00000000e+00,   0.00000000e+00,   0.00000000e+00,\n",
       "         0.00000000e+00,   0.00000000e+00,   0.00000000e+00,\n",
       "         0.00000000e+00,   0.00000000e+00,   0.00000000e+00,\n",
       "         0.00000000e+00,   0.00000000e+00,   0.00000000e+00,\n",
       "         0.00000000e+00,   5.59587505e+07,   0.00000000e+00,\n",
       "         0.00000000e+00,  -3.50353251e+07,   0.00000000e+00,\n",
       "         0.00000000e+00,   0.00000000e+00,   0.00000000e+00,\n",
       "         0.00000000e+00,   0.00000000e+00,   0.00000000e+00,\n",
       "         0.00000000e+00,   0.00000000e+00,   0.00000000e+00,\n",
       "        -1.13689442e+08,   0.00000000e+00,   0.00000000e+00,\n",
       "         0.00000000e+00,   0.00000000e+00,   0.00000000e+00,\n",
       "         0.00000000e+00,   0.00000000e+00,   0.00000000e+00,\n",
       "        -5.33183452e+08,   0.00000000e+00,   0.00000000e+00,\n",
       "         5.91902809e+11,  -5.91651058e+11,   0.00000000e+00,\n",
       "         0.00000000e+00,   0.00000000e+00,   0.00000000e+00,\n",
       "         0.00000000e+00,   0.00000000e+00,   0.00000000e+00,\n",
       "         3.22540451e+08,   0.00000000e+00,   0.00000000e+00,\n",
       "         0.00000000e+00,   0.00000000e+00,   0.00000000e+00,\n",
       "         0.00000000e+00,   0.00000000e+00,   0.00000000e+00,\n",
       "         0.00000000e+00,   9.60895249e+10,   0.00000000e+00,\n",
       "         0.00000000e+00,   0.00000000e+00,   0.00000000e+00,\n",
       "         0.00000000e+00,   0.00000000e+00,  -2.24664765e+08,\n",
       "         2.20937806e+08,   0.00000000e+00,   0.00000000e+00,\n",
       "         0.00000000e+00,   0.00000000e+00,   0.00000000e+00,\n",
       "         0.00000000e+00,   0.00000000e+00,   0.00000000e+00,\n",
       "         0.00000000e+00,   0.00000000e+00,   0.00000000e+00,\n",
       "         0.00000000e+00,   0.00000000e+00,   0.00000000e+00,\n",
       "         0.00000000e+00,   0.00000000e+00,  -4.03247931e+10,\n",
       "         0.00000000e+00,   0.00000000e+00,   0.00000000e+00,\n",
       "         0.00000000e+00,  -1.23276045e+08,   0.00000000e+00,\n",
       "         0.00000000e+00,  -5.33586150e+08,  -1.09928243e+08,\n",
       "         0.00000000e+00,   0.00000000e+00,   0.00000000e+00,\n",
       "         0.00000000e+00,   6.90605637e+01,   1.00965576e+00,\n",
       "        -1.69993225e+09,   2.46721298e+09])"
      ]
     },
     "execution_count": 284,
     "metadata": {},
     "output_type": "execute_result"
    }
   ],
   "source": [
    "params"
   ]
  },
  {
   "cell_type": "markdown",
   "metadata": {
    "collapsed": true
   },
   "source": [
    "## Ensemble methods \n",
    "Now create a new training set with columns as follows: id, linear, random forest with 100, bayesian ridge regression, lasso regression, and all the other features. We also have to create a test set for this.\n",
    "\n",
    "### Can try adding all the other features back in - THIS IMPLEMENTATION DOESN'T WORK\n",
    "\n",
    "#### Creating the training set"
   ]
  },
  {
   "cell_type": "code",
   "execution_count": 200,
   "metadata": {
    "collapsed": false
   },
   "outputs": [
    {
     "data": {
      "text/plain": [
       "Int64Index([343852, 972179,   8904, 166852, 558603, 111403, 318809, 806625,\n",
       "            616963, 720639, \n",
       "            ...\n",
       "            197959, 385059, 340766, 926646, 686870, 621446, 931684, 500846,\n",
       "            454584, 472244],\n",
       "           dtype='int64', length=100000)"
      ]
     },
     "execution_count": 200,
     "metadata": {},
     "output_type": "execute_result"
    }
   ],
   "source": [
    "test_ids"
   ]
  },
  {
   "cell_type": "code",
   "execution_count": 201,
   "metadata": {
    "collapsed": false
   },
   "outputs": [],
   "source": [
    "ensemble_training = pd.DataFrame({'linear' : LR_pred,'random_forest': RF_pred_100,\n",
    "                           'bayesian_ridge' : BRR_pred,\n",
    "                           'lasso' : L_pred})"
   ]
  },
  {
   "cell_type": "code",
   "execution_count": 202,
   "metadata": {
    "collapsed": false
   },
   "outputs": [
    {
     "data": {
      "text/html": [
       "<div>\n",
       "<table border=\"1\" class=\"dataframe\">\n",
       "  <thead>\n",
       "    <tr style=\"text-align: right;\">\n",
       "      <th></th>\n",
       "      <th>bayesian_ridge</th>\n",
       "      <th>lasso</th>\n",
       "      <th>linear</th>\n",
       "      <th>random_forest</th>\n",
       "    </tr>\n",
       "  </thead>\n",
       "  <tbody>\n",
       "    <tr>\n",
       "      <th>0</th>\n",
       "      <td>2.069898</td>\n",
       "      <td>1.913873</td>\n",
       "      <td>2.070801</td>\n",
       "      <td>2.147891</td>\n",
       "    </tr>\n",
       "    <tr>\n",
       "      <th>1</th>\n",
       "      <td>1.764883</td>\n",
       "      <td>1.913873</td>\n",
       "      <td>1.762695</td>\n",
       "      <td>1.721839</td>\n",
       "    </tr>\n",
       "    <tr>\n",
       "      <th>2</th>\n",
       "      <td>1.749688</td>\n",
       "      <td>1.913873</td>\n",
       "      <td>1.750244</td>\n",
       "      <td>1.834650</td>\n",
       "    </tr>\n",
       "    <tr>\n",
       "      <th>3</th>\n",
       "      <td>2.059840</td>\n",
       "      <td>1.913873</td>\n",
       "      <td>2.060791</td>\n",
       "      <td>1.963281</td>\n",
       "    </tr>\n",
       "    <tr>\n",
       "      <th>4</th>\n",
       "      <td>1.764883</td>\n",
       "      <td>1.913873</td>\n",
       "      <td>1.762695</td>\n",
       "      <td>1.721839</td>\n",
       "    </tr>\n",
       "  </tbody>\n",
       "</table>\n",
       "</div>"
      ],
      "text/plain": [
       "   bayesian_ridge     lasso    linear  random_forest\n",
       "0        2.069898  1.913873  2.070801       2.147891\n",
       "1        1.764883  1.913873  1.762695       1.721839\n",
       "2        1.749688  1.913873  1.750244       1.834650\n",
       "3        2.059840  1.913873  2.060791       1.963281\n",
       "4        1.764883  1.913873  1.762695       1.721839"
      ]
     },
     "execution_count": 202,
     "metadata": {},
     "output_type": "execute_result"
    }
   ],
   "source": [
    "ensemble_training.head(5)"
   ]
  },
  {
   "cell_type": "code",
   "execution_count": 207,
   "metadata": {
    "collapsed": false
   },
   "outputs": [],
   "source": [
    "ensemble_training = df_test.drop(['smiles'], axis=1)\n",
    "ensemble_training['linear'] = LR_pred\n",
    "ensemble_training['random_forest'] = RF_pred_100\n",
    "ensemble_training['bayesian_ridge'] = BRR_pred\n",
    "ensemble_training['lasso'] = L_pred"
   ]
  },
  {
   "cell_type": "code",
   "execution_count": 208,
   "metadata": {
    "collapsed": true
   },
   "outputs": [],
   "source": [
    "Y_train = test_gap # actual results for this training set"
   ]
  },
  {
   "cell_type": "markdown",
   "metadata": {},
   "source": [
    "### 260 features"
   ]
  },
  {
   "cell_type": "code",
   "execution_count": 209,
   "metadata": {
    "collapsed": false
   },
   "outputs": [
    {
     "name": "stdout",
     "output_type": "stream",
     "text": [
      "Train features: (100000, 260)\n",
      "Train gap: (100000,)\n"
     ]
    }
   ],
   "source": [
    "vals = ensemble_training.values\n",
    "X_train_ensemble = vals[:test_idx]\n",
    "print \"Train features:\", X_train_ensemble.shape\n",
    "print \"Train gap:\", Y_train.shape"
   ]
  },
  {
   "cell_type": "markdown",
   "metadata": {},
   "source": [
    "#### Creating the test set\n",
    "We need to take a new random sample from our original training and come up with predictions"
   ]
  },
  {
   "cell_type": "code",
   "execution_count": 226,
   "metadata": {
    "collapsed": false
   },
   "outputs": [],
   "source": [
    "df_test_ensemble = df_train_full.sample(n=100000)\n",
    "ensemble_test_ids = df_test_ensemble.index\n",
    "ensemble_test_gap = df_test_ensemble.gap\n",
    "df_test_ensemble = df_test_ensemble.drop(['gap'], axis=1)"
   ]
  },
  {
   "cell_type": "code",
   "execution_count": 227,
   "metadata": {
    "collapsed": false
   },
   "outputs": [],
   "source": [
    "#Drop the 'smiles' column\n",
    "ensemble_testing = df_test_ensemble.drop(['smiles'], axis=1)\n",
    "X_test_ensemble = ensemble_testing.values"
   ]
  },
  {
   "cell_type": "code",
   "execution_count": 228,
   "metadata": {
    "collapsed": false
   },
   "outputs": [],
   "source": [
    "LR_pred_test = LR.predict(X_test_ensemble)\n",
    "BRR_pred_test = BRR.predict(X_test_ensemble)\n",
    "RF_pred_100_test = RF_100.predict(X_test_ensemble)\n",
    "L_pred_test = L.predict(X_test_ensemble)"
   ]
  },
  {
   "cell_type": "code",
   "execution_count": 229,
   "metadata": {
    "collapsed": true
   },
   "outputs": [],
   "source": [
    "ensemble_testing['linear'] = LR_pred_test\n",
    "ensemble_testing['random_forest'] = RF_pred_100_test\n",
    "ensemble_testing['bayesian_ridge'] = BRR_pred_test\n",
    "ensemble_testing['lasso'] = L_pred_test"
   ]
  },
  {
   "cell_type": "code",
   "execution_count": 231,
   "metadata": {
    "collapsed": false
   },
   "outputs": [],
   "source": [
    "X_test_ensemble = ensemble_testing.values"
   ]
  },
  {
   "cell_type": "code",
   "execution_count": 234,
   "metadata": {
    "collapsed": false
   },
   "outputs": [
    {
     "data": {
      "text/plain": [
       "(100000, 100000)"
      ]
     },
     "execution_count": 234,
     "metadata": {},
     "output_type": "execute_result"
    }
   ],
   "source": [
    "len(X_test_ensemble), len(X_train_ensemble)"
   ]
  },
  {
   "cell_type": "markdown",
   "metadata": {},
   "source": [
    "#### Do random forest again"
   ]
  },
  {
   "cell_type": "code",
   "execution_count": 235,
   "metadata": {
    "collapsed": false
   },
   "outputs": [],
   "source": [
    "LR_ensemble = LinearRegression()\n",
    "LR_ensemble.fit(X_train_ensemble, Y_train)\n",
    "LR_ensemble_pred = LR_ensemble.predict(X_test_ensemble)\n",
    "\n",
    "RF_ensemble = RandomForestRegressor(n_estimators=100)\n",
    "RF_ensemble.fit(X_train_ensemble, Y_train)\n",
    "RF_ensemble_pred = RF_ensemble.predict(X_test_ensemble)"
   ]
  },
  {
   "cell_type": "markdown",
   "metadata": {},
   "source": [
    "#### Evaluate"
   ]
  },
  {
   "cell_type": "code",
   "execution_count": 236,
   "metadata": {
    "collapsed": false
   },
   "outputs": [
    {
     "name": "stdout",
     "output_type": "stream",
     "text": [
      "LR_rms\n",
      "8016173212.42\n",
      "RF_rms\n",
      "0.510969590839\n"
     ]
    }
   ],
   "source": [
    "# baselines Linear\n",
    "LR_rms = math.sqrt(mean_squared_error(LR_pred, ensemble_test_gap))\n",
    "print \"LR_rms\"\n",
    "print LR_rms\n",
    "\n",
    "#baselines Random Forest\n",
    "RF_rms = math.sqrt(mean_squared_error(RF_pred, ensemble_test_gap))\n",
    "print \"RF_rms\"\n",
    "print RF_rms"
   ]
  },
  {
   "cell_type": "markdown",
   "metadata": {},
   "source": [
    "So for some reason this is even worse :( Maybe should keep all the old features as well..."
   ]
  },
  {
   "cell_type": "markdown",
   "metadata": {},
   "source": [
    "### Save results to CSV"
   ]
  },
  {
   "cell_type": "code",
   "execution_count": 60,
   "metadata": {
    "collapsed": false
   },
   "outputs": [],
   "source": [
    "def write_to_file(filename, predictions):\n",
    "    with open(filename, \"w\") as f:\n",
    "        f.write(\"Id,Prediction\\n\")\n",
    "        for i,p in enumerate(predictions):\n",
    "            f.write(str(i+1) + \",\" + str(p) + \"\\n\")"
   ]
  },
  {
   "cell_type": "code",
   "execution_count": 61,
   "metadata": {
    "collapsed": true
   },
   "outputs": [],
   "source": [
    "write_to_file(\"sample1.csv\", LR_pred)\n",
    "write_to_file(\"sample2.csv\", RF_pred)\n",
    "write_to_file(\"bayesianridge.csv\", BRR_pred)\n",
    "write_to_file(\"randomforest100trees.csv\", RF_pred_100)"
   ]
  },
  {
   "cell_type": "code",
   "execution_count": 75,
   "metadata": {
    "collapsed": true
   },
   "outputs": [],
   "source": []
  }
 ],
 "metadata": {
  "kernelspec": {
   "display_name": "Python 2",
   "language": "python",
   "name": "python2"
  },
  "language_info": {
   "codemirror_mode": {
    "name": "ipython",
    "version": 2
   },
   "file_extension": ".py",
   "mimetype": "text/x-python",
   "name": "python",
   "nbconvert_exporter": "python",
   "pygments_lexer": "ipython2",
   "version": "2.7.11"
  }
 },
 "nbformat": 4,
 "nbformat_minor": 0
}
